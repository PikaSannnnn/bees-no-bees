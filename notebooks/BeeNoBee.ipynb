{
 "cells": [
  {
   "cell_type": "markdown",
   "metadata": {
    "id": "UnX25ViRr_27"
   },
   "source": [
    "# CIBER Research - February 2022\n"
   ]
  },
  {
   "cell_type": "markdown",
   "metadata": {
    "id": "fr85cf7-ejBj"
   },
   "source": [
    "\n",
    "## Tasks\n",
    "- [x] Read Papers\n",
    "- [x] Review Source Code\n",
    "- [ ] Attempt to recreate results from paper\n",
    "  - [ ] Figure out how to use labels and strengths from the pre-processed data\n",
    "  - [ ] Create spectrograms from the pre-processed data\n",
    "  - [ ] Attempt SVM with pre-processed data\n",
    "  - [ ] Preprocess partitioned blocks\n",
    "- [ ] Allow for saving and loading blocks in csv files\n",
    "- [ ] Get spectrogram for all blocks\n",
    "  - [ ] Store mel spectrogram in csv\n",
    "\n",
    "## Task Results\n",
    "**2022/02/15 - 2022/03/01**\n",
    "* Read paper 1\n",
    "* Setup parsing for paper 1 timestamps\n",
    "* Started reading sound files and converting to Mel spectrograms\n",
    "\n",
    "**2022/03/02 - 2022/03/22**\n",
    "* Extracted Labels\n",
    "* Split audio into appropriate chunks\n",
    "* Standardized audio lengths to given block size\n",
    "\n",
    "**2022/03/23 - 2022/04/11**\n",
    "* Attempted to partition all data\n",
    "* Experimented with csv writing and created `save_blocks_to_csv(blocks, csv_name)` function\n",
    "  * Saves blocks to csv to allow future quick-loads instead of extensive partitioning times\n",
    "  * Goal: decrease partitioning time in the long run\n",
    "  * Goal: getting spectrograms for all blocks\n",
    "\n",
    "## Relevant Info\n",
    "**Email from Dr. Hyoseung Kim**\n",
    "> Some materials to discuss:  \n",
    "> Paper 1:  I. Nolasco and E. Benetos, “To bee or not to bee: Investigating machine learning approaches to beehive sound recognition,” in Workshop on Detection and Classification of Acoustic Scenes and Events (DCASE), 2018. https://dcase.community/documents/workshop2018/proceedings/DCASE2018Workshop_Nolasco_131.pdf  \n",
    "> Paper 2: Nolasco, Inês, et al. \"Audio-based identification of beehive states.\" ICASSP 2019-2019 IEEE International Conference on Acoustics, Speech and Signal Processing (ICASSP). IEEE, 2019. https://arxiv.org/abs/1811.06330\n",
    ">\n",
    "> Source code: https://github.com/inesnolas/Audio_based_identification_beehive_states\n",
    "> \n",
    "> Data sets:  \n",
    "> Paper 1: https://zenodo.org/record/1321278#.YgwykN_MJHe  \n",
    "> Paper 2: https://zenodo.org/record/2563940#.Ygw85N_MJHe\n",
    "\n",
    "**API Documentation**\n",
    "* Keras: https://keras.io/api/\n",
    "* Seaborn: https://seaborn.pydata.org/api.html\n",
    "* Pandas: https://pandas.pydata.org/docs/reference/index.html#api\n",
    "* Numpy: https://numpy.org/doc/stable/reference/index.html#reference\n",
    "* Librosa: https://librosa.org/doc/main/index.html"
   ]
  },
  {
   "cell_type": "markdown",
   "metadata": {
    "id": "N90kQXIoSvXL"
   },
   "source": [
    "# Preprocessing"
   ]
  },
  {
   "cell_type": "code",
   "execution_count": 1,
   "metadata": {
    "executionInfo": {
     "elapsed": 2479,
     "status": "ok",
     "timestamp": 1654889072549,
     "user": {
      "displayName": "Scott Vo",
      "userId": "13143144038006176710"
     },
     "user_tz": 420
    },
    "id": "F6UVFcWarvgC"
   },
   "outputs": [],
   "source": [
    "# imports\n",
    "import seaborn as sns\n",
    "import pandas as pd\n",
    "import numpy as np\n",
    "import pickle\n",
    "import librosa\n",
    "import librosa.display\n",
    "from sklearn import svm\n",
    "from sklearn import metrics\n",
    "from glob import glob\n",
    "import warnings\n",
    "from IPython.display import display, clear_output\n",
    "import matplotlib.pyplot as plt\n",
    "import os\n",
    "import joblib as jbl\n",
    "import platform\n",
    "\n",
    "warnings.filterwarnings('ignore')\n",
    "\n",
    "n_fft = 1024\n",
    "hop_length = 315\n",
    "\n",
    "os_system = platform.system()"
   ]
  },
  {
   "cell_type": "code",
   "execution_count": 2,
   "metadata": {},
   "outputs": [
    {
     "name": "stdout",
     "output_type": "stream",
     "text": [
      "/Users/sdong/Documents/CIBER/bees-no-bees/notebooks\n",
      "Darwin\n"
     ]
    }
   ],
   "source": [
    "print(os.getcwd())\n",
    "print(platform.system())"
   ]
  },
  {
   "cell_type": "markdown",
   "metadata": {
    "id": "rUoi_9pzQnxc"
   },
   "source": [
    "### Parsing Data"
   ]
  },
  {
   "cell_type": "code",
   "execution_count": 3,
   "metadata": {
    "executionInfo": {
     "elapsed": 24,
     "status": "ok",
     "timestamp": 1654889072551,
     "user": {
      "displayName": "Scott Vo",
      "userId": "13143144038006176710"
     },
     "user_tz": 420
    },
    "id": "J-9VTRYK8SPP"
   },
   "outputs": [],
   "source": [
    "# get file lists for both file extensions\n",
    "def get_files(dir):\n",
    "    labs = glob(dir + '/*.lab')\n",
    "    mp3s = glob(dir + '/*.mp3')\n",
    "    wavs = glob(dir + '/*.wav')\n",
    "    return labs, mp3s, wavs"
   ]
  },
  {
   "cell_type": "code",
   "execution_count": 4,
   "metadata": {},
   "outputs": [],
   "source": [
    "threshold_val = 0"
   ]
  },
  {
   "cell_type": "code",
   "execution_count": 5,
   "metadata": {
    "executionInfo": {
     "elapsed": 23,
     "status": "ok",
     "timestamp": 1654889072553,
     "user": {
      "displayName": "Scott Vo",
      "userId": "13143144038006176710"
     },
     "user_tz": 420
    },
    "id": "YBuoYHrT9nO8"
   },
   "outputs": [],
   "source": [
    "if os_system == \"Windows\" or os_system == \"Darwin\":\n",
    "    directory = '../data'\n",
    "else:\n",
    "    directory = '/content/drive/Shareddrives/CIBER Research Undergrads/Task 1/Data'\n",
    "\n",
    "parsed_dir = os.path.join(directory[:-4], f\"pickles\").replace(\"\\\\\",\"/\")\n",
    "labs, mp3s, wavs = get_files(directory)\n",
    "if not os.path.exists(parsed_dir):\n",
    "    os.mkdir(parsed_dir) \n",
    "if not os.path.exists(parsed_dir + f\"/_ParsedSounds_{threshold_val}.txt\"):  # create txt file with all parsed sound names\n",
    "    f = open(parsed_dir + f\"/_ParsedSounds_{threshold_val}.txt\", \"w+\")\n",
    "    f.close()\n",
    "psf = open(parsed_dir + f\"/_ParsedSounds_{threshold_val}.txt\", \"r\")\n",
    "psfn = psf.read().splitlines()\n",
    "psf.close()\n",
    "\n",
    "# print(mp3s)"
   ]
  },
  {
   "cell_type": "code",
   "execution_count": 6,
   "metadata": {
    "colab": {
     "base_uri": "https://localhost:8080/"
    },
    "executionInfo": {
     "elapsed": 23,
     "status": "ok",
     "timestamp": 1654889072555,
     "user": {
      "displayName": "Scott Vo",
      "userId": "13143144038006176710"
     },
     "user_tz": 420
    },
    "id": "P13LOBbs9q-O",
    "outputId": "6fd42360-1ad7-44cd-fb42-ed0285d7a5f9"
   },
   "outputs": [
    {
     "name": "stdout",
     "output_type": "stream",
     "text": [
      "../pickles\n",
      "../data\n"
     ]
    }
   ],
   "source": [
    "# from os import walk\n",
    "\n",
    "# f = []\n",
    "# for (dirpath, dirnames, filenames) in walk(directory):\n",
    "#     f.extend(filenames)\n",
    "#     break\n",
    "\n",
    "# print(labs)\n",
    "# print(psfn)\n",
    "print(parsed_dir)\n",
    "# print(f)\n",
    "print(directory)"
   ]
  },
  {
   "cell_type": "code",
   "execution_count": 7,
   "metadata": {
    "executionInfo": {
     "elapsed": 21,
     "status": "ok",
     "timestamp": 1654889072557,
     "user": {
      "displayName": "Scott Vo",
      "userId": "13143144038006176710"
     },
     "user_tz": 420
    },
    "id": "SOFG7kq96wGb"
   },
   "outputs": [],
   "source": [
    "class SoundBites:\n",
    "    timestamps = []\n",
    "    file_path = \"\"\n",
    "    sound_type = \"\"\n",
    "\n",
    "    def __init__(self, file_path, sound_type=\"mp3\", timestamps=[]):\n",
    "        self.file_path = file_path\n",
    "        self.sound_type = sound_type\n",
    "        self.timestamps=[]\n",
    "\n",
    "    def __str__(self):\n",
    "        tmpstr = f\"Directory: {self.file_path}\\nSound Type: {self.sound_type}\\n{self.timestamps}\"\n",
    "        return tmpstr"
   ]
  },
  {
   "cell_type": "code",
   "execution_count": 8,
   "metadata": {
    "executionInfo": {
     "elapsed": 21,
     "status": "ok",
     "timestamp": 1654889072558,
     "user": {
      "displayName": "Scott Vo",
      "userId": "13143144038006176710"
     },
     "user_tz": 420
    },
    "id": "AgqX5VGE7Kcd"
   },
   "outputs": [],
   "source": [
    "# parsing .lab files\n",
    "def parse(data, mp3s, wav, dir):\n",
    "    sound = SoundBites(f\"{dir}/{data[0]}\", sound_type=\"mp3\" if f\"{dir}/{data[0]}.mp3\" in mp3s else \"wav\")\n",
    "    for dat in data[1:-2]:\n",
    "        sound.timestamps.append(dat.split('\\t'))\n",
    "    return sound"
   ]
  },
  {
   "cell_type": "code",
   "execution_count": 9,
   "metadata": {
    "executionInfo": {
     "elapsed": 771,
     "status": "ok",
     "timestamp": 1654889074641,
     "user": {
      "displayName": "Scott Vo",
      "userId": "13143144038006176710"
     },
     "user_tz": 420
    },
    "id": "Qc5Qze3rol8j"
   },
   "outputs": [],
   "source": [
    "data = []\n",
    "for l in labs:\n",
    "    with open(l) as file:\n",
    "        input_string = file.read()\n",
    "    data.append(parse([x for x in input_string.split('\\n')], mp3s, wavs, directory))\n",
    "\n",
    "# for i in data:\n",
    "#   print(i)"
   ]
  },
  {
   "cell_type": "markdown",
   "metadata": {
    "id": "K4MBcJiHQrTd"
   },
   "source": [
    "### Reading Data to Spectrogram"
   ]
  },
  {
   "cell_type": "code",
   "execution_count": 10,
   "metadata": {
    "colab": {
     "base_uri": "https://localhost:8080/"
    },
    "executionInfo": {
     "elapsed": 2739,
     "status": "ok",
     "timestamp": 1654887882259,
     "user": {
      "displayName": "Scott Vo",
      "userId": "13143144038006176710"
     },
     "user_tz": 420
    },
    "id": "c6lMHBhrZtq_",
    "outputId": "bbf0990a-200d-44bf-f9a1-13832d4ee200"
   },
   "outputs": [
    {
     "name": "stdout",
     "output_type": "stream",
     "text": [
      "[<__main__.SoundBites object at 0x7fa97d624d90>, <__main__.SoundBites object at 0x7fa979b7de50>, <__main__.SoundBites object at 0x7fa979b7db20>, <__main__.SoundBites object at 0x7fa979b7dee0>, <__main__.SoundBites object at 0x7fa9586fc2b0>, <__main__.SoundBites object at 0x7fa979b7d550>, <__main__.SoundBites object at 0x7fa928045580>, <__main__.SoundBites object at 0x7fa928045850>, <__main__.SoundBites object at 0x7fa928045f40>, <__main__.SoundBites object at 0x7fa928045e80>, <__main__.SoundBites object at 0x7fa928045a00>, <__main__.SoundBites object at 0x7fa928045d60>, <__main__.SoundBites object at 0x7fa9280453d0>, <__main__.SoundBites object at 0x7fa928045460>, <__main__.SoundBites object at 0x7fa97d633850>, <__main__.SoundBites object at 0x7fa97d633eb0>, <__main__.SoundBites object at 0x7fa97d6334f0>, <__main__.SoundBites object at 0x7fa97d633790>, <__main__.SoundBites object at 0x7fa97d633d00>, <__main__.SoundBites object at 0x7fa97d6335e0>, <__main__.SoundBites object at 0x7fa97d633a30>, <__main__.SoundBites object at 0x7fa97d6338e0>, <__main__.SoundBites object at 0x7fa97d633a00>, <__main__.SoundBites object at 0x7fa97d6339a0>, <__main__.SoundBites object at 0x7fa97d633910>, <__main__.SoundBites object at 0x7fa97d633940>, <__main__.SoundBites object at 0x7fa97d633b50>, <__main__.SoundBites object at 0x7fa97d633e80>, <__main__.SoundBites object at 0x7fa97d633ee0>, <__main__.SoundBites object at 0x7fa97d633b20>, <__main__.SoundBites object at 0x7fa97d6337c0>, <__main__.SoundBites object at 0x7fa97d633f40>, <__main__.SoundBites object at 0x7fa97d633700>, <__main__.SoundBites object at 0x7fa97d633fd0>, <__main__.SoundBites object at 0x7fa97d633820>, <__main__.SoundBites object at 0x7fa97d633490>, <__main__.SoundBites object at 0x7fa97d633fa0>, <__main__.SoundBites object at 0x7fa97d6336d0>, <__main__.SoundBites object at 0x7fa97d6334c0>, <__main__.SoundBites object at 0x7fa97d653640>, <__main__.SoundBites object at 0x7fa97d6531c0>, <__main__.SoundBites object at 0x7fa97d653280>, <__main__.SoundBites object at 0x7fa97d653520>, <__main__.SoundBites object at 0x7fa97d653370>, <__main__.SoundBites object at 0x7fa97d6535b0>, <__main__.SoundBites object at 0x7fa97d653040>, <__main__.SoundBites object at 0x7fa97d6534f0>, <__main__.SoundBites object at 0x7fa97d653490>, <__main__.SoundBites object at 0x7fa97d653400>, <__main__.SoundBites object at 0x7fa97d6533a0>, <__main__.SoundBites object at 0x7fa97d6536a0>, <__main__.SoundBites object at 0x7fa97d653700>, <__main__.SoundBites object at 0x7fa97d6530d0>, <__main__.SoundBites object at 0x7fa97d653130>, <__main__.SoundBites object at 0x7fa97d653190>, <__main__.SoundBites object at 0x7fa97d653760>, <__main__.SoundBites object at 0x7fa97d6537c0>, <__main__.SoundBites object at 0x7fa97d653820>, <__main__.SoundBites object at 0x7fa97d653880>, <__main__.SoundBites object at 0x7fa97d6538e0>, <__main__.SoundBites object at 0x7fa97d653940>, <__main__.SoundBites object at 0x7fa97d6539a0>, <__main__.SoundBites object at 0x7fa97d653a00>, <__main__.SoundBites object at 0x7fa97d653a60>, <__main__.SoundBites object at 0x7fa97d653ac0>, <__main__.SoundBites object at 0x7fa97d653b20>, <__main__.SoundBites object at 0x7fa97d653b80>, <__main__.SoundBites object at 0x7fa97d653be0>, <__main__.SoundBites object at 0x7fa97d653c40>, <__main__.SoundBites object at 0x7fa97d653ca0>, <__main__.SoundBites object at 0x7fa97d653d00>, <__main__.SoundBites object at 0x7fa97d653d60>, <__main__.SoundBites object at 0x7fa97d653dc0>, <__main__.SoundBites object at 0x7fa97d653e20>, <__main__.SoundBites object at 0x7fa97d653e80>, <__main__.SoundBites object at 0x7fa97d653ee0>, <__main__.SoundBites object at 0x7fa97d653f40>, <__main__.SoundBites object at 0x7fa97d653fa0>]\n",
      "(128, 1079)\n"
     ]
    }
   ],
   "source": [
    "# testing librosa\n",
    "print(data)\n",
    "# cut audio files into set length(source code does 60 seconds), segments shorter are repeated until len met\n",
    "y, sr = librosa.core.load(f\"{data[1].file_path}.{data[1].sound_type}\", offset=float(data[1].timestamps[1][0]), duration = float(data[1].timestamps[1][1])-float(data[1].timestamps[1][0]))\n",
    "# y, sr = librosa.core.load(f\"{data[1].file_path}.{data[1].sound_type}\")\n",
    "S = librosa.feature.melspectrogram(y, sr=sr, n_fft=n_fft, hop_length=hop_length)\n",
    "S_DB = librosa.power_to_db(S, ref=np.max)\n",
    "print(S.shape)"
   ]
  },
  {
   "cell_type": "markdown",
   "metadata": {
    "id": "ORUbFnR_TCDI"
   },
   "source": [
    "# Evaluation"
   ]
  },
  {
   "cell_type": "markdown",
   "metadata": {
    "id": "f92H_HorZpZ4"
   },
   "source": [
    "### SVM\n",
    "Initial Parameters (**C\\***):  \n",
    "* Kernel: RBF\n",
    "* Features: $μ$ and $σ$, $\\Delta$ of 20 MFCCs and of the $\\Delta\\Delta$ of 20 MFCCs\n",
    "* No Normalisation\n",
    "* Segment Size ($S$): 60 seconds\n",
    "* Threshold $\\Theta$: 0 seconds\n",
    "* Split Mode: Random Split"
   ]
  },
  {
   "cell_type": "code",
   "execution_count": 11,
   "metadata": {
    "executionInfo": {
     "elapsed": 247,
     "status": "ok",
     "timestamp": 1654889076925,
     "user": {
      "displayName": "Scott Vo",
      "userId": "13143144038006176710"
     },
     "user_tz": 420
    },
    "id": "o6JYCw3fmSU3"
   },
   "outputs": [],
   "source": [
    "# dataclass to store relevant info for the blocks\n",
    "class block:\n",
    "    def __init__(self, weight, nobee, clip = []):\n",
    "        self.nobee = nobee\n",
    "        self.weight = weight\n",
    "        self.clip = clip"
   ]
  },
  {
   "cell_type": "code",
   "execution_count": 12,
   "metadata": {
    "executionInfo": {
     "elapsed": 313,
     "status": "ok",
     "timestamp": 1654889077232,
     "user": {
      "displayName": "Scott Vo",
      "userId": "13143144038006176710"
     },
     "user_tz": 420
    },
    "id": "qaLHiAec5l7z"
   },
   "outputs": [],
   "source": [
    "from librosa.core.convert import frames_to_time\n",
    "def get_annotations_for_block(annotations: list, block_start: float, block_finish: float, threshold=0):\n",
    "\n",
    "    assert block_start < block_finish, (f'block_start ({block_start}) needs to be less than block_finish ({block_finish})')\n",
    "\n",
    "    timeframes = []\n",
    "  # annotation_filename = filename[:-4] +'.lab'\n",
    "  # filename: whatever.mp3 or wav -> filename[0:-4] + .lab\n",
    "\n",
    "    overlap = 0\n",
    "\n",
    "  # for frame in open(annotation_filename, 'r').readlines()[1:-1]:  # parse everything except title and end .\n",
    "    for frame in annotations:\n",
    "        split = [part.strip() for part in frame.split('\\t')]\n",
    "\n",
    "        assert (len(split)==3), ('expected 3 fields in each line, got: '+str(len(split))) \n",
    "    \n",
    "        frame_start = float(split[0])\n",
    "        frame_end = float(split[1])\n",
    "        label = split[2]\n",
    "\n",
    "        if block_start > frame_end:\n",
    "            continue\n",
    "        elif block_finish < frame_start:\n",
    "            break\n",
    "        else:\n",
    "      # start calculations\n",
    "\n",
    "            if frame_end - frame_start >= threshold and label == 'nobee': # ignores too short thresholds\n",
    "\n",
    "                if frame_start > block_start and frame_start <= block_finish and frame_end >= block_finish:  \n",
    "                    # frame overlaps with right of block\n",
    "                    # |____________########|########\n",
    "                    # bs          tp0      bf      tp1 \n",
    "                    overlap += block_finish - frame_start\n",
    "\n",
    "                elif frame_start <= block_start and frame_end > block_start and frame_end < block_finish:\n",
    "                    # frame overlaps with left of block\n",
    "                    # #####|########_____|\n",
    "                    # tp0  bs     tp1    bf\n",
    "                    overlap += frame_end - block_start\n",
    "\n",
    "                elif frame_start > block_start and frame_start <= block_finish and frame_end > block_start and frame_end <= block_finish:\n",
    "                    # frame completely inside block      \n",
    "                    # |_____########_____|\n",
    "                    # bs   tp0    tp1    bf\n",
    "                    overlap += frame_end - frame_start\n",
    "\n",
    "                elif frame_start <= block_start and frame_end > block_finish:\n",
    "                    # frame completely surrounds block\n",
    "                    #  ####|############|####\n",
    "                    # tp0  bs           bf  tp1\n",
    "                    overlap += block_finish - block_start\n",
    "    \n",
    "    final_label = 'nobee' if overlap > threshold else 'bee'\n",
    "    return [overlap/(block_finish-block_start), final_label]\n",
    " \n",
    "  # return timeframes"
   ]
  },
  {
   "cell_type": "code",
   "execution_count": 13,
   "metadata": {
    "executionInfo": {
     "elapsed": 7,
     "status": "ok",
     "timestamp": 1654889077951,
     "user": {
      "displayName": "Scott Vo",
      "userId": "13143144038006176710"
     },
     "user_tz": 420
    },
    "id": "2R6nVnwseiYE"
   },
   "outputs": [],
   "source": [
    "def get_blocks_from_filename(filename: str, block_size: int, threshold: float): \n",
    "    \n",
    "    '''\n",
    "  Returns array of all blocks in provided audiofile\n",
    "  Each returned block in the array is length of 2:\n",
    "    - [0] is sound data\n",
    "    - [1] is bee/nobee annotation\n",
    "    \n",
    "    '''\n",
    "    \n",
    "    print(block_size, filename)    \n",
    "    annotation_filename = filename[:-4] +'.lab'    \n",
    "    annotations = open(annotation_filename, 'r').readlines()[1:-1]    \n",
    "    blocks = []    \n",
    "    offset = 0    \n",
    "    temp = filename.split('/')[-1]    \n",
    "    print(f'Reading audio file {temp}')    \n",
    "    while True:    \n",
    "        # clear_output()    \n",
    "        print(f'\\Attempting to read from {offset}s to {offset+block_size}s...')    \n",
    "        try:    \n",
    "            clip, sr = librosa.core.load(filename, offset=offset, duration=block_size)\n",
    "        except ValueError as error:\n",
    "            clip = np.arange(0)\n",
    "    \n",
    "    # print(clip.shape[0] / sr)\n",
    "        if clip.shape[0] >= block_size * sr:\n",
    "            annotation = get_annotations_for_block(annotations, offset, offset+block_size, threshold)\n",
    "            newBlock = block(annotation[0], annotation[1], clip)\n",
    "            blocks.append(newBlock)\n",
    "      # ret.append([clip, annotation])\n",
    "            block_name = f'{temp[:-4]} timestamp{offset}-{offset+block_size} {annotation[1]} {round(annotation[0], 5)}'\n",
    "            print(block_name)\n",
    "\n",
    "        elif clip.shape[0] > 0:\n",
    "            annotation = get_annotations_for_block(annotations, offset, offset+block_size, threshold)\n",
    "      # ret.append([np.pad(clip, (0, block_size*sr-clip.shape[0]), mode='reflect'), annotation])\n",
    "            newBlock = block(annotation[0], annotation[1], np.pad(clip, (0, block_size*sr-clip.shape[0]), mode='reflect'))\n",
    "            blocks.append(newBlock)\n",
    "            block_name = f'{temp[:-4]} timestamp {offset}-{round(clip.shape[0]/sr, 2)} {annotation[1]} {round(annotation[0], 5)}'\n",
    "            print(block_name)\n",
    "            print(f\"----- Finished {temp}\")\n",
    "            break\n",
    "\n",
    "        else:\n",
    "            print(f\"----- Finished {temp}\")\n",
    "            break\n",
    "\n",
    "        offset += block_size\n",
    "    return blocks"
   ]
  },
  {
   "cell_type": "code",
   "execution_count": 14,
   "metadata": {
    "executionInfo": {
     "elapsed": 219,
     "status": "ok",
     "timestamp": 1654889079409,
     "user": {
      "displayName": "Scott Vo",
      "userId": "13143144038006176710"
     },
     "user_tz": 420
    },
    "id": "ZOkm8pmD_vLS"
   },
   "outputs": [],
   "source": [
    "# def save_blocks_to_csv(blocks, csv_name):\n",
    "#   csvarray = np.array(blocks)\n",
    "#   np.savetxt(directory + csv_name, csvarray, delimiter=',')\n",
    "#   pass"
   ]
  },
  {
   "cell_type": "code",
   "execution_count": 15,
   "metadata": {
    "colab": {
     "base_uri": "https://localhost:8080/"
    },
    "executionInfo": {
     "elapsed": 4,
     "status": "ok",
     "timestamp": 1654889079775,
     "user": {
      "displayName": "Scott Vo",
      "userId": "13143144038006176710"
     },
     "user_tz": 420
    },
    "id": "wurLFGNOpAXS",
    "outputId": "1da31bf1-9486-42e2-a012-30ba56f3d8dd"
   },
   "outputs": [
    {
     "name": "stdout",
     "output_type": "stream",
     "text": [
      "['Hive1_12_06_2018_QueenBee_H1_audio___16_10_00.wav', '[0, 0, 0, 0, 0, 0, 0, 0, 0, 0]', 'CF003 - Active - Day - (227).wav', '[0, 1, 0, 0, 1]', 'Hive3_15_07_2017_NO_QueenBee_H3_audio___06_40_00.wav', '[0, 0, 0, 0, 0, 0, 0, 0, 0, 0]', 'Hive3_12_07_2017_NO_QueenBee_H3_audio___15_20_00.wav', '[0, 0, 0, 0, 0, 0, 0, 0, 0, 0]', 'Hive1_31_05_2018_NO_QueenBee_H1_audio___15_20_00.wav', '[1, 0, 0, 1, 0, 0, 0, 0, 0, 1]', 'Hive3_15_07_2017_NO_QueenBee_H3_audio___06_50_00.wav', '[0, 0, 0, 0, 0, 0, 0, 0, 0, 1]', 'CF003 - Active - Day - (226).wav', '[1, 0, 1, 1, 1]', 'Hive3_12_07_2017_NO_QueenBee_H3_audio___15_30_00.wav', '[0, 1, 0, 0, 0, 0, 0, 0, 1, 0]', 'Hive1_31_05_2018_NO_QueenBee_H1_audio___15_30_00.wav', '[1, 0, 0, 0, 0, 0, 0, 0, 0, 0]', 'Hive1_12_06_2018_QueenBee_H1_audio___15_40_00.wav', '[1, 1, 0, 0, 0, 0, 0, 1, 0, 0]', 'Hive1_12_06_2018_QueenBee_H1_audio___16_00_00.wav', '[0, 0, 0, 0, 0, 0, 0, 0, 0, 0]', 'CJ001 - Missing Queen - Day -  (104).wav', '[0, 0, 0, 0, 0]', 'CF003 - Active - Day - (221).wav', '[1, 1, 0, 1, 1]', 'Hive3_12_07_2017_NO_QueenBee_H3_audio___16_50_00.wav', '[0, 0, 0, 0, 0, 0, 0, 0, 0, 1]', 'Hive1_31_05_2018_NO_QueenBee_H1_audio___15_10_00.wav', '[0, 0, 0, 1, 0, 0, 0, 0, 0, 0]', 'Hive3_12_07_2017_NO_QueenBee_H3_audio___15_10_00.wav', '[0, 0, 0, 0, 0, 0, 0, 0, 0, 0]', 'Hive1_12_06_2018_QueenBee_H1_audio___16_20_00.wav', '[0, 0, 0, 1, 1, 0, 0, 0, 1, 0]', 'CJ001 - Missing Queen - Day -  (103).wav', '[0, 0, 0, 0, 0]', 'CF003 - Active - Day - (217).wav', '[0, 0, 0, 0, 0]', 'CF003 - Active - Day - (216).wav', '[0, 1, 1, 1, 0]', 'Hive1_12_06_2018_QueenBee_H1_audio___16_30_00.wav', '[0, 0, 0, 0, 0, 0, 0, 0, 0, 0]', 'CJ001 - Missing Queen - Day -  (102).wav', '[0, 0, 1, 1, 0]', 'Hive1_12_06_2018_QueenBee_H1_audio___17_00_00.wav', '[0, 0, 0, 0, 1, 0, 1, 0, 0, 0]', 'Hive1_31_05_2018_NO_QueenBee_H1_audio___15_00_00.wav', '[0, 0, 0, 0, 0, 0, 0, 0, 0, 0]', 'CF003 - Active - Day - (220).wav', '[1, 1, 1, 1, 1]', 'Hive3_12_07_2017_NO_QueenBee_H3_audio___16_40_00.wav', '[0, 0, 1, 0, 0, 0, 0, 0, 0, 0]', 'Hive3_12_07_2017_NO_QueenBee_H3_audio___15_00_00.wav', '[0, 0, 0, 0, 0, 0, 0, 0, 0, 0]', 'CF003 - Active - Day - (219).wav', '[0, 0, 0, 0, 0]', 'Hive3_20_07_2017_QueenBee_H3_audio___06_20_00.wav', '[0, 0, 0, 0, 0, 0, 0, 0, 0, 0]', 'CF003 - Active - Day - (223).wav', '[0, 1, 1, 1, 1]', 'Hive3_15_07_2017_NO_QueenBee_H3_audio___06_30_00.wav', '[0, 0, 0, 0, 0, 0, 0, 0, 0, 1]', 'CF003 - Active - Day - (215).wav', '[0, 0, 0, 0, 0]', 'Hive3_15_07_2017_NO_QueenBee_H3_audio___07_00_00.wav', '[1, 0, 0, 0, 1, 0, 0, 1, 1, 0]', 'Hive1_12_06_2018_QueenBee_H1_audio___15_20_00.wav', '[0, 0, 0, 0, 0, 0, 0, 0, 0, 0]', 'CJ001 - Missing Queen - Day -  (101).wav', '[1, 0, 0, 0, 0]', 'CJ001 - Missing Queen - Day -  (100).wav', '[0, 0, 0, 0, 0]', 'CF003 - Active - Day - (214).wav', '[0, 0, 0, 0, 0]', 'Hive1_12_06_2018_QueenBee_H1_audio___15_30_00.wav', '[0, 0, 0, 0, 0, 0, 0, 0, 0, 0]', 'Hive1_31_05_2018_NO_QueenBee_H1_audio___15_40_00.wav', '[0, 0, 0, 0, 0, 0, 0, 0, 0, 0]', 'CF003 - Active - Day - (222).wav', '[1, 1, 1, 1, 1]', 'Hive3_12_07_2017_NO_QueenBee_H3_audio___15_40_00.wav', '[1, 1, 0, 0, 0, 1, 1, 1, 0, 0]', 'Hive3_15_07_2017_NO_QueenBee_H3_audio___06_20_00.wav', '[0, 0, 0, 0, 0, 0, 0, 0, 1, 0]', 'CF003 - Active - Day - (218).wav', '[0, 1, 0, 0, 0]', 'Hive1_12_06_2018_QueenBee_H1_audio___15_10_00.wav', '[0, 0, 0, 0, 0, 0, 0, 0, 1, 0]', 'Hive1_12_06_2018_QueenBee_H1_audio___16_50_00.wav', '[0, 0, 0, 0, 0, 0, 1, 1, 0, 0]', 'Hive3_20_07_2017_QueenBee_H3_audio___06_10_00.wav', '[0, 0, 0, 0, 0, 0, 0, 0, 0, 0]', 'Hive3_12_07_2017_NO_QueenBee_H3_audio___16_20_00.wav', '[1, 1, 1, 1, 0, 0, 0, 0, 0, 1]', 'CF003 - Active - Day - (225).wav', '[1, 1, 1, 1, 1]', 'Hive3_12_07_2017_NO_QueenBee_H3_audio___16_30_00.wav', '[1, 1, 1, 1, 0, 0, 0, 0, 1, 1]', 'CF003 - Active - Day - (224).wav', '[1, 1, 0, 1, 0]', 'Hive3_15_07_2017_NO_QueenBee_H3_audio___06_10_00.wav', '[0, 0, 0, 0, 1, 0, 0, 0, 0, 0]', 'Hive3_12_07_2017_NO_QueenBee_H3_audio___17_00_00.wav', '[1, 0, 0, 0, 0, 0, 0, 0, 0, 0]', 'Hive1_12_06_2018_QueenBee_H1_audio___15_00_00.wav', '[0, 0, 0, 0, 0, 0, 0, 0, 0, 0]', 'Hive1_12_06_2018_QueenBee_H1_audio___16_40_00.wav', '[1, 1, 0, 0, 0, 0, 0, 0, 0, 1]', 'GH001 - Active - Day - 141022_0659_0751.mp3', '[1, 0, 0, 1, 1, 0, 0, 0, 1, 1, 1, 1, 0, 0, 0, 0, 0, 0, 0, 0, 1, 0, 1, 0, 0, 0, 0, 0, 0, 0, 0, 0, 0, 0, 0, 0, 0, 0, 0, 0, 0, 0, 0, 0, 0, 0, 0, 0, 0, 0, 0, 0, 1]', 'CF001 - Missing Queen - Day -.mp3', '[0]']\n"
     ]
    }
   ],
   "source": [
    "psf = open(parsed_dir + f\"/_ParsedSounds_{threshold_val}.txt\", \"r\")\n",
    "psfn = psf.read().splitlines()\n",
    "psf.close()\n",
    "print(psfn)"
   ]
  },
  {
   "cell_type": "code",
   "execution_count": 16,
   "metadata": {
    "colab": {
     "base_uri": "https://localhost:8080/"
    },
    "executionInfo": {
     "elapsed": 130099,
     "status": "ok",
     "timestamp": 1654889210565,
     "user": {
      "displayName": "Scott Vo",
      "userId": "13143144038006176710"
     },
     "user_tz": 420
    },
    "id": "52SN_C1PBJMS",
    "outputId": "49b99a50-9d2b-4fca-b098-269d359006da",
    "scrolled": true
   },
   "outputs": [
    {
     "name": "stdout",
     "output_type": "stream",
     "text": [
      "Loaded ../pickles/Hive1_12_06_2018_QueenBee_H1_audio___16_10_00.wav_0_block_0.csv from save\n",
      "Loaded ../pickles/Hive1_12_06_2018_QueenBee_H1_audio___16_10_00.wav_0_block_1.csv from save\n",
      "Loaded ../pickles/Hive1_12_06_2018_QueenBee_H1_audio___16_10_00.wav_0_block_2.csv from save\n",
      "Loaded ../pickles/Hive1_12_06_2018_QueenBee_H1_audio___16_10_00.wav_0_block_3.csv from save\n",
      "Loaded ../pickles/Hive1_12_06_2018_QueenBee_H1_audio___16_10_00.wav_0_block_4.csv from save\n",
      "Loaded ../pickles/Hive1_12_06_2018_QueenBee_H1_audio___16_10_00.wav_0_block_5.csv from save\n",
      "Loaded ../pickles/Hive1_12_06_2018_QueenBee_H1_audio___16_10_00.wav_0_block_6.csv from save\n",
      "Loaded ../pickles/Hive1_12_06_2018_QueenBee_H1_audio___16_10_00.wav_0_block_7.csv from save\n",
      "Loaded ../pickles/Hive1_12_06_2018_QueenBee_H1_audio___16_10_00.wav_0_block_8.csv from save\n",
      "Loaded ../pickles/Hive1_12_06_2018_QueenBee_H1_audio___16_10_00.wav_0_block_9.csv from save\n",
      "[0, 0, 0, 0, 0, 0, 0, 0, 0, 0]\n",
      "Loaded ../pickles/CF003 - Active - Day - (227).wav_0_block_0.csv from save\n",
      "Loaded ../pickles/CF003 - Active - Day - (227).wav_0_block_1.csv from save\n",
      "Loaded ../pickles/CF003 - Active - Day - (227).wav_0_block_2.csv from save\n",
      "Loaded ../pickles/CF003 - Active - Day - (227).wav_0_block_3.csv from save\n",
      "Loaded ../pickles/CF003 - Active - Day - (227).wav_0_block_4.csv from save\n",
      "[0, 1, 0, 0, 1]\n",
      "Loaded ../pickles/Hive3_15_07_2017_NO_QueenBee_H3_audio___06_40_00.wav_0_block_0.csv from save\n",
      "Loaded ../pickles/Hive3_15_07_2017_NO_QueenBee_H3_audio___06_40_00.wav_0_block_1.csv from save\n",
      "Loaded ../pickles/Hive3_15_07_2017_NO_QueenBee_H3_audio___06_40_00.wav_0_block_2.csv from save\n",
      "Loaded ../pickles/Hive3_15_07_2017_NO_QueenBee_H3_audio___06_40_00.wav_0_block_3.csv from save\n",
      "Loaded ../pickles/Hive3_15_07_2017_NO_QueenBee_H3_audio___06_40_00.wav_0_block_4.csv from save\n",
      "Loaded ../pickles/Hive3_15_07_2017_NO_QueenBee_H3_audio___06_40_00.wav_0_block_5.csv from save\n",
      "Loaded ../pickles/Hive3_15_07_2017_NO_QueenBee_H3_audio___06_40_00.wav_0_block_6.csv from save\n",
      "Loaded ../pickles/Hive3_15_07_2017_NO_QueenBee_H3_audio___06_40_00.wav_0_block_7.csv from save\n",
      "Loaded ../pickles/Hive3_15_07_2017_NO_QueenBee_H3_audio___06_40_00.wav_0_block_8.csv from save\n",
      "Loaded ../pickles/Hive3_15_07_2017_NO_QueenBee_H3_audio___06_40_00.wav_0_block_9.csv from save\n",
      "[0, 0, 0, 0, 0, 0, 0, 0, 0, 0]\n",
      "Loaded ../pickles/Hive3_12_07_2017_NO_QueenBee_H3_audio___15_20_00.wav_0_block_0.csv from save\n",
      "Loaded ../pickles/Hive3_12_07_2017_NO_QueenBee_H3_audio___15_20_00.wav_0_block_1.csv from save\n",
      "Loaded ../pickles/Hive3_12_07_2017_NO_QueenBee_H3_audio___15_20_00.wav_0_block_2.csv from save\n",
      "Loaded ../pickles/Hive3_12_07_2017_NO_QueenBee_H3_audio___15_20_00.wav_0_block_3.csv from save\n",
      "Loaded ../pickles/Hive3_12_07_2017_NO_QueenBee_H3_audio___15_20_00.wav_0_block_4.csv from save\n",
      "Loaded ../pickles/Hive3_12_07_2017_NO_QueenBee_H3_audio___15_20_00.wav_0_block_5.csv from save\n",
      "Loaded ../pickles/Hive3_12_07_2017_NO_QueenBee_H3_audio___15_20_00.wav_0_block_6.csv from save\n",
      "Loaded ../pickles/Hive3_12_07_2017_NO_QueenBee_H3_audio___15_20_00.wav_0_block_7.csv from save\n",
      "Loaded ../pickles/Hive3_12_07_2017_NO_QueenBee_H3_audio___15_20_00.wav_0_block_8.csv from save\n",
      "Loaded ../pickles/Hive3_12_07_2017_NO_QueenBee_H3_audio___15_20_00.wav_0_block_9.csv from save\n",
      "[0, 0, 0, 0, 0, 0, 0, 0, 0, 0]\n",
      "Loaded ../pickles/Hive1_31_05_2018_NO_QueenBee_H1_audio___15_20_00.wav_0_block_0.csv from save\n",
      "Loaded ../pickles/Hive1_31_05_2018_NO_QueenBee_H1_audio___15_20_00.wav_0_block_1.csv from save\n",
      "Loaded ../pickles/Hive1_31_05_2018_NO_QueenBee_H1_audio___15_20_00.wav_0_block_2.csv from save\n",
      "Loaded ../pickles/Hive1_31_05_2018_NO_QueenBee_H1_audio___15_20_00.wav_0_block_3.csv from save\n",
      "Loaded ../pickles/Hive1_31_05_2018_NO_QueenBee_H1_audio___15_20_00.wav_0_block_4.csv from save\n",
      "Loaded ../pickles/Hive1_31_05_2018_NO_QueenBee_H1_audio___15_20_00.wav_0_block_5.csv from save\n",
      "Loaded ../pickles/Hive1_31_05_2018_NO_QueenBee_H1_audio___15_20_00.wav_0_block_6.csv from save\n",
      "Loaded ../pickles/Hive1_31_05_2018_NO_QueenBee_H1_audio___15_20_00.wav_0_block_7.csv from save\n",
      "Loaded ../pickles/Hive1_31_05_2018_NO_QueenBee_H1_audio___15_20_00.wav_0_block_8.csv from save\n",
      "Loaded ../pickles/Hive1_31_05_2018_NO_QueenBee_H1_audio___15_20_00.wav_0_block_9.csv from save\n",
      "[1, 0, 0, 1, 0, 0, 0, 0, 0, 1]\n",
      "Loaded ../pickles/Hive3_15_07_2017_NO_QueenBee_H3_audio___06_50_00.wav_0_block_0.csv from save\n",
      "Loaded ../pickles/Hive3_15_07_2017_NO_QueenBee_H3_audio___06_50_00.wav_0_block_1.csv from save\n",
      "Loaded ../pickles/Hive3_15_07_2017_NO_QueenBee_H3_audio___06_50_00.wav_0_block_2.csv from save\n",
      "Loaded ../pickles/Hive3_15_07_2017_NO_QueenBee_H3_audio___06_50_00.wav_0_block_3.csv from save\n",
      "Loaded ../pickles/Hive3_15_07_2017_NO_QueenBee_H3_audio___06_50_00.wav_0_block_4.csv from save\n",
      "Loaded ../pickles/Hive3_15_07_2017_NO_QueenBee_H3_audio___06_50_00.wav_0_block_5.csv from save\n",
      "Loaded ../pickles/Hive3_15_07_2017_NO_QueenBee_H3_audio___06_50_00.wav_0_block_6.csv from save\n",
      "Loaded ../pickles/Hive3_15_07_2017_NO_QueenBee_H3_audio___06_50_00.wav_0_block_7.csv from save\n",
      "Loaded ../pickles/Hive3_15_07_2017_NO_QueenBee_H3_audio___06_50_00.wav_0_block_8.csv from save\n",
      "Loaded ../pickles/Hive3_15_07_2017_NO_QueenBee_H3_audio___06_50_00.wav_0_block_9.csv from save\n",
      "[0, 0, 0, 0, 0, 0, 0, 0, 0, 1]\n",
      "Loaded ../pickles/CF003 - Active - Day - (226).wav_0_block_0.csv from save\n",
      "Loaded ../pickles/CF003 - Active - Day - (226).wav_0_block_1.csv from save\n",
      "Loaded ../pickles/CF003 - Active - Day - (226).wav_0_block_2.csv from save\n",
      "Loaded ../pickles/CF003 - Active - Day - (226).wav_0_block_3.csv from save\n",
      "Loaded ../pickles/CF003 - Active - Day - (226).wav_0_block_4.csv from save\n",
      "[1, 0, 1, 1, 1]\n",
      "Loaded ../pickles/Hive3_12_07_2017_NO_QueenBee_H3_audio___15_30_00.wav_0_block_0.csv from save\n",
      "Loaded ../pickles/Hive3_12_07_2017_NO_QueenBee_H3_audio___15_30_00.wav_0_block_1.csv from save\n",
      "Loaded ../pickles/Hive3_12_07_2017_NO_QueenBee_H3_audio___15_30_00.wav_0_block_2.csv from save\n",
      "Loaded ../pickles/Hive3_12_07_2017_NO_QueenBee_H3_audio___15_30_00.wav_0_block_3.csv from save\n",
      "Loaded ../pickles/Hive3_12_07_2017_NO_QueenBee_H3_audio___15_30_00.wav_0_block_4.csv from save\n",
      "Loaded ../pickles/Hive3_12_07_2017_NO_QueenBee_H3_audio___15_30_00.wav_0_block_5.csv from save\n",
      "Loaded ../pickles/Hive3_12_07_2017_NO_QueenBee_H3_audio___15_30_00.wav_0_block_6.csv from save\n",
      "Loaded ../pickles/Hive3_12_07_2017_NO_QueenBee_H3_audio___15_30_00.wav_0_block_7.csv from save\n",
      "Loaded ../pickles/Hive3_12_07_2017_NO_QueenBee_H3_audio___15_30_00.wav_0_block_8.csv from save\n",
      "Loaded ../pickles/Hive3_12_07_2017_NO_QueenBee_H3_audio___15_30_00.wav_0_block_9.csv from save\n",
      "[0, 1, 0, 0, 0, 0, 0, 0, 1, 0]\n",
      "Loaded ../pickles/Hive1_31_05_2018_NO_QueenBee_H1_audio___15_30_00.wav_0_block_0.csv from save\n",
      "Loaded ../pickles/Hive1_31_05_2018_NO_QueenBee_H1_audio___15_30_00.wav_0_block_1.csv from save\n",
      "Loaded ../pickles/Hive1_31_05_2018_NO_QueenBee_H1_audio___15_30_00.wav_0_block_2.csv from save\n",
      "Loaded ../pickles/Hive1_31_05_2018_NO_QueenBee_H1_audio___15_30_00.wav_0_block_3.csv from save\n",
      "Loaded ../pickles/Hive1_31_05_2018_NO_QueenBee_H1_audio___15_30_00.wav_0_block_4.csv from save\n",
      "Loaded ../pickles/Hive1_31_05_2018_NO_QueenBee_H1_audio___15_30_00.wav_0_block_5.csv from save\n",
      "Loaded ../pickles/Hive1_31_05_2018_NO_QueenBee_H1_audio___15_30_00.wav_0_block_6.csv from save\n",
      "Loaded ../pickles/Hive1_31_05_2018_NO_QueenBee_H1_audio___15_30_00.wav_0_block_7.csv from save\n",
      "Loaded ../pickles/Hive1_31_05_2018_NO_QueenBee_H1_audio___15_30_00.wav_0_block_8.csv from save\n",
      "Loaded ../pickles/Hive1_31_05_2018_NO_QueenBee_H1_audio___15_30_00.wav_0_block_9.csv from save\n",
      "[1, 0, 0, 0, 0, 0, 0, 0, 0, 0]\n",
      "Loaded ../pickles/Hive1_12_06_2018_QueenBee_H1_audio___15_40_00.wav_0_block_0.csv from save\n",
      "Loaded ../pickles/Hive1_12_06_2018_QueenBee_H1_audio___15_40_00.wav_0_block_1.csv from save\n",
      "Loaded ../pickles/Hive1_12_06_2018_QueenBee_H1_audio___15_40_00.wav_0_block_2.csv from save\n",
      "Loaded ../pickles/Hive1_12_06_2018_QueenBee_H1_audio___15_40_00.wav_0_block_3.csv from save\n",
      "Loaded ../pickles/Hive1_12_06_2018_QueenBee_H1_audio___15_40_00.wav_0_block_4.csv from save\n",
      "Loaded ../pickles/Hive1_12_06_2018_QueenBee_H1_audio___15_40_00.wav_0_block_5.csv from save\n",
      "Loaded ../pickles/Hive1_12_06_2018_QueenBee_H1_audio___15_40_00.wav_0_block_6.csv from save\n",
      "Loaded ../pickles/Hive1_12_06_2018_QueenBee_H1_audio___15_40_00.wav_0_block_7.csv from save\n"
     ]
    },
    {
     "name": "stdout",
     "output_type": "stream",
     "text": [
      "Loaded ../pickles/Hive1_12_06_2018_QueenBee_H1_audio___15_40_00.wav_0_block_8.csv from save\n",
      "Loaded ../pickles/Hive1_12_06_2018_QueenBee_H1_audio___15_40_00.wav_0_block_9.csv from save\n",
      "[1, 1, 0, 0, 0, 0, 0, 1, 0, 0]\n",
      "Loaded ../pickles/Hive1_12_06_2018_QueenBee_H1_audio___16_00_00.wav_0_block_0.csv from save\n",
      "Loaded ../pickles/Hive1_12_06_2018_QueenBee_H1_audio___16_00_00.wav_0_block_1.csv from save\n",
      "Loaded ../pickles/Hive1_12_06_2018_QueenBee_H1_audio___16_00_00.wav_0_block_2.csv from save\n",
      "Loaded ../pickles/Hive1_12_06_2018_QueenBee_H1_audio___16_00_00.wav_0_block_3.csv from save\n",
      "Loaded ../pickles/Hive1_12_06_2018_QueenBee_H1_audio___16_00_00.wav_0_block_4.csv from save\n",
      "Loaded ../pickles/Hive1_12_06_2018_QueenBee_H1_audio___16_00_00.wav_0_block_5.csv from save\n",
      "Loaded ../pickles/Hive1_12_06_2018_QueenBee_H1_audio___16_00_00.wav_0_block_6.csv from save\n",
      "Loaded ../pickles/Hive1_12_06_2018_QueenBee_H1_audio___16_00_00.wav_0_block_7.csv from save\n",
      "Loaded ../pickles/Hive1_12_06_2018_QueenBee_H1_audio___16_00_00.wav_0_block_8.csv from save\n",
      "Loaded ../pickles/Hive1_12_06_2018_QueenBee_H1_audio___16_00_00.wav_0_block_9.csv from save\n",
      "[0, 0, 0, 0, 0, 0, 0, 0, 0, 0]\n",
      "Loaded ../pickles/CJ001 - Missing Queen - Day -  (104).wav_0_block_0.csv from save\n",
      "Loaded ../pickles/CJ001 - Missing Queen - Day -  (104).wav_0_block_1.csv from save\n",
      "Loaded ../pickles/CJ001 - Missing Queen - Day -  (104).wav_0_block_2.csv from save\n",
      "Loaded ../pickles/CJ001 - Missing Queen - Day -  (104).wav_0_block_3.csv from save\n",
      "Loaded ../pickles/CJ001 - Missing Queen - Day -  (104).wav_0_block_4.csv from save\n",
      "[0, 0, 0, 0, 0]\n",
      "Loaded ../pickles/CF003 - Active - Day - (221).wav_0_block_0.csv from save\n",
      "Loaded ../pickles/CF003 - Active - Day - (221).wav_0_block_1.csv from save\n",
      "Loaded ../pickles/CF003 - Active - Day - (221).wav_0_block_2.csv from save\n",
      "Loaded ../pickles/CF003 - Active - Day - (221).wav_0_block_3.csv from save\n",
      "Loaded ../pickles/CF003 - Active - Day - (221).wav_0_block_4.csv from save\n",
      "[1, 1, 0, 1, 1]\n",
      "Loaded ../pickles/Hive3_12_07_2017_NO_QueenBee_H3_audio___16_50_00.wav_0_block_0.csv from save\n",
      "Loaded ../pickles/Hive3_12_07_2017_NO_QueenBee_H3_audio___16_50_00.wav_0_block_1.csv from save\n",
      "Loaded ../pickles/Hive3_12_07_2017_NO_QueenBee_H3_audio___16_50_00.wav_0_block_2.csv from save\n",
      "Loaded ../pickles/Hive3_12_07_2017_NO_QueenBee_H3_audio___16_50_00.wav_0_block_3.csv from save\n",
      "Loaded ../pickles/Hive3_12_07_2017_NO_QueenBee_H3_audio___16_50_00.wav_0_block_4.csv from save\n",
      "Loaded ../pickles/Hive3_12_07_2017_NO_QueenBee_H3_audio___16_50_00.wav_0_block_5.csv from save\n",
      "Loaded ../pickles/Hive3_12_07_2017_NO_QueenBee_H3_audio___16_50_00.wav_0_block_6.csv from save\n",
      "Loaded ../pickles/Hive3_12_07_2017_NO_QueenBee_H3_audio___16_50_00.wav_0_block_7.csv from save\n",
      "Loaded ../pickles/Hive3_12_07_2017_NO_QueenBee_H3_audio___16_50_00.wav_0_block_8.csv from save\n",
      "Loaded ../pickles/Hive3_12_07_2017_NO_QueenBee_H3_audio___16_50_00.wav_0_block_9.csv from save\n",
      "[0, 0, 0, 0, 0, 0, 0, 0, 0, 1]\n",
      "Loaded ../pickles/Hive1_31_05_2018_NO_QueenBee_H1_audio___15_10_00.wav_0_block_0.csv from save\n",
      "Loaded ../pickles/Hive1_31_05_2018_NO_QueenBee_H1_audio___15_10_00.wav_0_block_1.csv from save\n",
      "Loaded ../pickles/Hive1_31_05_2018_NO_QueenBee_H1_audio___15_10_00.wav_0_block_2.csv from save\n",
      "Loaded ../pickles/Hive1_31_05_2018_NO_QueenBee_H1_audio___15_10_00.wav_0_block_3.csv from save\n",
      "Loaded ../pickles/Hive1_31_05_2018_NO_QueenBee_H1_audio___15_10_00.wav_0_block_4.csv from save\n",
      "Loaded ../pickles/Hive1_31_05_2018_NO_QueenBee_H1_audio___15_10_00.wav_0_block_5.csv from save\n",
      "Loaded ../pickles/Hive1_31_05_2018_NO_QueenBee_H1_audio___15_10_00.wav_0_block_6.csv from save\n",
      "Loaded ../pickles/Hive1_31_05_2018_NO_QueenBee_H1_audio___15_10_00.wav_0_block_7.csv from save\n",
      "Loaded ../pickles/Hive1_31_05_2018_NO_QueenBee_H1_audio___15_10_00.wav_0_block_8.csv from save\n",
      "Loaded ../pickles/Hive1_31_05_2018_NO_QueenBee_H1_audio___15_10_00.wav_0_block_9.csv from save\n",
      "[0, 0, 0, 1, 0, 0, 0, 0, 0, 0]\n",
      "Loaded ../pickles/Hive3_12_07_2017_NO_QueenBee_H3_audio___15_10_00.wav_0_block_0.csv from save\n",
      "Loaded ../pickles/Hive3_12_07_2017_NO_QueenBee_H3_audio___15_10_00.wav_0_block_1.csv from save\n",
      "Loaded ../pickles/Hive3_12_07_2017_NO_QueenBee_H3_audio___15_10_00.wav_0_block_2.csv from save\n",
      "Loaded ../pickles/Hive3_12_07_2017_NO_QueenBee_H3_audio___15_10_00.wav_0_block_3.csv from save\n",
      "Loaded ../pickles/Hive3_12_07_2017_NO_QueenBee_H3_audio___15_10_00.wav_0_block_4.csv from save\n",
      "Loaded ../pickles/Hive3_12_07_2017_NO_QueenBee_H3_audio___15_10_00.wav_0_block_5.csv from save\n",
      "Loaded ../pickles/Hive3_12_07_2017_NO_QueenBee_H3_audio___15_10_00.wav_0_block_6.csv from save\n",
      "Loaded ../pickles/Hive3_12_07_2017_NO_QueenBee_H3_audio___15_10_00.wav_0_block_7.csv from save\n",
      "Loaded ../pickles/Hive3_12_07_2017_NO_QueenBee_H3_audio___15_10_00.wav_0_block_8.csv from save\n",
      "Loaded ../pickles/Hive3_12_07_2017_NO_QueenBee_H3_audio___15_10_00.wav_0_block_9.csv from save\n",
      "[0, 0, 0, 0, 0, 0, 0, 0, 0, 0]\n",
      "Loaded ../pickles/Hive1_12_06_2018_QueenBee_H1_audio___16_20_00.wav_0_block_0.csv from save\n",
      "Loaded ../pickles/Hive1_12_06_2018_QueenBee_H1_audio___16_20_00.wav_0_block_1.csv from save\n",
      "Loaded ../pickles/Hive1_12_06_2018_QueenBee_H1_audio___16_20_00.wav_0_block_2.csv from save\n",
      "Loaded ../pickles/Hive1_12_06_2018_QueenBee_H1_audio___16_20_00.wav_0_block_3.csv from save\n",
      "Loaded ../pickles/Hive1_12_06_2018_QueenBee_H1_audio___16_20_00.wav_0_block_4.csv from save\n",
      "Loaded ../pickles/Hive1_12_06_2018_QueenBee_H1_audio___16_20_00.wav_0_block_5.csv from save\n",
      "Loaded ../pickles/Hive1_12_06_2018_QueenBee_H1_audio___16_20_00.wav_0_block_6.csv from save\n",
      "Loaded ../pickles/Hive1_12_06_2018_QueenBee_H1_audio___16_20_00.wav_0_block_7.csv from save\n",
      "Loaded ../pickles/Hive1_12_06_2018_QueenBee_H1_audio___16_20_00.wav_0_block_8.csv from save\n",
      "Loaded ../pickles/Hive1_12_06_2018_QueenBee_H1_audio___16_20_00.wav_0_block_9.csv from save\n",
      "[0, 0, 0, 1, 1, 0, 0, 0, 1, 0]\n",
      "Loaded ../pickles/CJ001 - Missing Queen - Day -  (103).wav_0_block_0.csv from save\n",
      "Loaded ../pickles/CJ001 - Missing Queen - Day -  (103).wav_0_block_1.csv from save\n",
      "Loaded ../pickles/CJ001 - Missing Queen - Day -  (103).wav_0_block_2.csv from save\n",
      "Loaded ../pickles/CJ001 - Missing Queen - Day -  (103).wav_0_block_3.csv from save\n",
      "Loaded ../pickles/CJ001 - Missing Queen - Day -  (103).wav_0_block_4.csv from save\n",
      "[0, 0, 0, 0, 0]\n",
      "Loaded ../pickles/CF003 - Active - Day - (217).wav_0_block_0.csv from save\n",
      "Loaded ../pickles/CF003 - Active - Day - (217).wav_0_block_1.csv from save\n",
      "Loaded ../pickles/CF003 - Active - Day - (217).wav_0_block_2.csv from save\n",
      "Loaded ../pickles/CF003 - Active - Day - (217).wav_0_block_3.csv from save\n",
      "Loaded ../pickles/CF003 - Active - Day - (217).wav_0_block_4.csv from save\n",
      "[0, 0, 0, 0, 0]\n",
      "Loaded ../pickles/CF003 - Active - Day - (216).wav_0_block_0.csv from save\n",
      "Loaded ../pickles/CF003 - Active - Day - (216).wav_0_block_1.csv from save\n",
      "Loaded ../pickles/CF003 - Active - Day - (216).wav_0_block_2.csv from save\n",
      "Loaded ../pickles/CF003 - Active - Day - (216).wav_0_block_3.csv from save\n",
      "Loaded ../pickles/CF003 - Active - Day - (216).wav_0_block_4.csv from save\n",
      "[0, 1, 1, 1, 0]\n",
      "Loaded ../pickles/Hive1_12_06_2018_QueenBee_H1_audio___16_30_00.wav_0_block_0.csv from save\n",
      "Loaded ../pickles/Hive1_12_06_2018_QueenBee_H1_audio___16_30_00.wav_0_block_1.csv from save\n",
      "Loaded ../pickles/Hive1_12_06_2018_QueenBee_H1_audio___16_30_00.wav_0_block_2.csv from save\n",
      "Loaded ../pickles/Hive1_12_06_2018_QueenBee_H1_audio___16_30_00.wav_0_block_3.csv from save\n",
      "Loaded ../pickles/Hive1_12_06_2018_QueenBee_H1_audio___16_30_00.wav_0_block_4.csv from save\n",
      "Loaded ../pickles/Hive1_12_06_2018_QueenBee_H1_audio___16_30_00.wav_0_block_5.csv from save\n",
      "Loaded ../pickles/Hive1_12_06_2018_QueenBee_H1_audio___16_30_00.wav_0_block_6.csv from save\n",
      "Loaded ../pickles/Hive1_12_06_2018_QueenBee_H1_audio___16_30_00.wav_0_block_7.csv from save\n",
      "Loaded ../pickles/Hive1_12_06_2018_QueenBee_H1_audio___16_30_00.wav_0_block_8.csv from save\n",
      "Loaded ../pickles/Hive1_12_06_2018_QueenBee_H1_audio___16_30_00.wav_0_block_9.csv from save\n",
      "[0, 0, 0, 0, 0, 0, 0, 0, 0, 0]\n",
      "Loaded ../pickles/CJ001 - Missing Queen - Day -  (102).wav_0_block_0.csv from save\n",
      "Loaded ../pickles/CJ001 - Missing Queen - Day -  (102).wav_0_block_1.csv from save\n",
      "Loaded ../pickles/CJ001 - Missing Queen - Day -  (102).wav_0_block_2.csv from save\n"
     ]
    },
    {
     "name": "stdout",
     "output_type": "stream",
     "text": [
      "Loaded ../pickles/CJ001 - Missing Queen - Day -  (102).wav_0_block_3.csv from save\n",
      "Loaded ../pickles/CJ001 - Missing Queen - Day -  (102).wav_0_block_4.csv from save\n",
      "[0, 0, 1, 1, 0]\n",
      "Loaded ../pickles/Hive1_12_06_2018_QueenBee_H1_audio___17_00_00.wav_0_block_0.csv from save\n",
      "Loaded ../pickles/Hive1_12_06_2018_QueenBee_H1_audio___17_00_00.wav_0_block_1.csv from save\n",
      "Loaded ../pickles/Hive1_12_06_2018_QueenBee_H1_audio___17_00_00.wav_0_block_2.csv from save\n",
      "Loaded ../pickles/Hive1_12_06_2018_QueenBee_H1_audio___17_00_00.wav_0_block_3.csv from save\n",
      "Loaded ../pickles/Hive1_12_06_2018_QueenBee_H1_audio___17_00_00.wav_0_block_4.csv from save\n",
      "Loaded ../pickles/Hive1_12_06_2018_QueenBee_H1_audio___17_00_00.wav_0_block_5.csv from save\n",
      "Loaded ../pickles/Hive1_12_06_2018_QueenBee_H1_audio___17_00_00.wav_0_block_6.csv from save\n",
      "Loaded ../pickles/Hive1_12_06_2018_QueenBee_H1_audio___17_00_00.wav_0_block_7.csv from save\n",
      "Loaded ../pickles/Hive1_12_06_2018_QueenBee_H1_audio___17_00_00.wav_0_block_8.csv from save\n",
      "Loaded ../pickles/Hive1_12_06_2018_QueenBee_H1_audio___17_00_00.wav_0_block_9.csv from save\n",
      "[0, 0, 0, 0, 1, 0, 1, 0, 0, 0]\n",
      "Loaded ../pickles/Hive1_31_05_2018_NO_QueenBee_H1_audio___15_00_00.wav_0_block_0.csv from save\n",
      "Loaded ../pickles/Hive1_31_05_2018_NO_QueenBee_H1_audio___15_00_00.wav_0_block_1.csv from save\n",
      "Loaded ../pickles/Hive1_31_05_2018_NO_QueenBee_H1_audio___15_00_00.wav_0_block_2.csv from save\n",
      "Loaded ../pickles/Hive1_31_05_2018_NO_QueenBee_H1_audio___15_00_00.wav_0_block_3.csv from save\n",
      "Loaded ../pickles/Hive1_31_05_2018_NO_QueenBee_H1_audio___15_00_00.wav_0_block_4.csv from save\n",
      "Loaded ../pickles/Hive1_31_05_2018_NO_QueenBee_H1_audio___15_00_00.wav_0_block_5.csv from save\n",
      "Loaded ../pickles/Hive1_31_05_2018_NO_QueenBee_H1_audio___15_00_00.wav_0_block_6.csv from save\n",
      "Loaded ../pickles/Hive1_31_05_2018_NO_QueenBee_H1_audio___15_00_00.wav_0_block_7.csv from save\n",
      "Loaded ../pickles/Hive1_31_05_2018_NO_QueenBee_H1_audio___15_00_00.wav_0_block_8.csv from save\n",
      "Loaded ../pickles/Hive1_31_05_2018_NO_QueenBee_H1_audio___15_00_00.wav_0_block_9.csv from save\n",
      "[0, 0, 0, 0, 0, 0, 0, 0, 0, 0]\n",
      "Loaded ../pickles/CF003 - Active - Day - (220).wav_0_block_0.csv from save\n",
      "Loaded ../pickles/CF003 - Active - Day - (220).wav_0_block_1.csv from save\n",
      "Loaded ../pickles/CF003 - Active - Day - (220).wav_0_block_2.csv from save\n",
      "Loaded ../pickles/CF003 - Active - Day - (220).wav_0_block_3.csv from save\n",
      "Loaded ../pickles/CF003 - Active - Day - (220).wav_0_block_4.csv from save\n",
      "[1, 1, 1, 1, 1]\n",
      "Loaded ../pickles/Hive3_12_07_2017_NO_QueenBee_H3_audio___16_40_00.wav_0_block_0.csv from save\n",
      "Loaded ../pickles/Hive3_12_07_2017_NO_QueenBee_H3_audio___16_40_00.wav_0_block_1.csv from save\n",
      "Loaded ../pickles/Hive3_12_07_2017_NO_QueenBee_H3_audio___16_40_00.wav_0_block_2.csv from save\n",
      "Loaded ../pickles/Hive3_12_07_2017_NO_QueenBee_H3_audio___16_40_00.wav_0_block_3.csv from save\n",
      "Loaded ../pickles/Hive3_12_07_2017_NO_QueenBee_H3_audio___16_40_00.wav_0_block_4.csv from save\n",
      "Loaded ../pickles/Hive3_12_07_2017_NO_QueenBee_H3_audio___16_40_00.wav_0_block_5.csv from save\n",
      "Loaded ../pickles/Hive3_12_07_2017_NO_QueenBee_H3_audio___16_40_00.wav_0_block_6.csv from save\n",
      "Loaded ../pickles/Hive3_12_07_2017_NO_QueenBee_H3_audio___16_40_00.wav_0_block_7.csv from save\n",
      "Loaded ../pickles/Hive3_12_07_2017_NO_QueenBee_H3_audio___16_40_00.wav_0_block_8.csv from save\n",
      "Loaded ../pickles/Hive3_12_07_2017_NO_QueenBee_H3_audio___16_40_00.wav_0_block_9.csv from save\n",
      "[0, 0, 1, 0, 0, 0, 0, 0, 0, 0]\n",
      "Loaded ../pickles/Hive3_12_07_2017_NO_QueenBee_H3_audio___15_00_00.wav_0_block_0.csv from save\n",
      "Loaded ../pickles/Hive3_12_07_2017_NO_QueenBee_H3_audio___15_00_00.wav_0_block_1.csv from save\n",
      "Loaded ../pickles/Hive3_12_07_2017_NO_QueenBee_H3_audio___15_00_00.wav_0_block_2.csv from save\n",
      "Loaded ../pickles/Hive3_12_07_2017_NO_QueenBee_H3_audio___15_00_00.wav_0_block_3.csv from save\n",
      "Loaded ../pickles/Hive3_12_07_2017_NO_QueenBee_H3_audio___15_00_00.wav_0_block_4.csv from save\n",
      "Loaded ../pickles/Hive3_12_07_2017_NO_QueenBee_H3_audio___15_00_00.wav_0_block_5.csv from save\n",
      "Loaded ../pickles/Hive3_12_07_2017_NO_QueenBee_H3_audio___15_00_00.wav_0_block_6.csv from save\n",
      "Loaded ../pickles/Hive3_12_07_2017_NO_QueenBee_H3_audio___15_00_00.wav_0_block_7.csv from save\n",
      "Loaded ../pickles/Hive3_12_07_2017_NO_QueenBee_H3_audio___15_00_00.wav_0_block_8.csv from save\n",
      "Loaded ../pickles/Hive3_12_07_2017_NO_QueenBee_H3_audio___15_00_00.wav_0_block_9.csv from save\n",
      "[0, 0, 0, 0, 0, 0, 0, 0, 0, 0]\n",
      "Loaded ../pickles/CF003 - Active - Day - (219).wav_0_block_0.csv from save\n",
      "Loaded ../pickles/CF003 - Active - Day - (219).wav_0_block_1.csv from save\n",
      "Loaded ../pickles/CF003 - Active - Day - (219).wav_0_block_2.csv from save\n",
      "Loaded ../pickles/CF003 - Active - Day - (219).wav_0_block_3.csv from save\n",
      "Loaded ../pickles/CF003 - Active - Day - (219).wav_0_block_4.csv from save\n",
      "[0, 0, 0, 0, 0]\n",
      "Loaded ../pickles/Hive3_20_07_2017_QueenBee_H3_audio___06_20_00.wav_0_block_0.csv from save\n",
      "Loaded ../pickles/Hive3_20_07_2017_QueenBee_H3_audio___06_20_00.wav_0_block_1.csv from save\n",
      "Loaded ../pickles/Hive3_20_07_2017_QueenBee_H3_audio___06_20_00.wav_0_block_2.csv from save\n",
      "Loaded ../pickles/Hive3_20_07_2017_QueenBee_H3_audio___06_20_00.wav_0_block_3.csv from save\n",
      "Loaded ../pickles/Hive3_20_07_2017_QueenBee_H3_audio___06_20_00.wav_0_block_4.csv from save\n",
      "Loaded ../pickles/Hive3_20_07_2017_QueenBee_H3_audio___06_20_00.wav_0_block_5.csv from save\n",
      "Loaded ../pickles/Hive3_20_07_2017_QueenBee_H3_audio___06_20_00.wav_0_block_6.csv from save\n",
      "Loaded ../pickles/Hive3_20_07_2017_QueenBee_H3_audio___06_20_00.wav_0_block_7.csv from save\n",
      "Loaded ../pickles/Hive3_20_07_2017_QueenBee_H3_audio___06_20_00.wav_0_block_8.csv from save\n",
      "Loaded ../pickles/Hive3_20_07_2017_QueenBee_H3_audio___06_20_00.wav_0_block_9.csv from save\n",
      "[0, 0, 0, 0, 0, 0, 0, 0, 0, 0]\n",
      "Loaded ../pickles/CF003 - Active - Day - (223).wav_0_block_0.csv from save\n",
      "Loaded ../pickles/CF003 - Active - Day - (223).wav_0_block_1.csv from save\n",
      "Loaded ../pickles/CF003 - Active - Day - (223).wav_0_block_2.csv from save\n",
      "Loaded ../pickles/CF003 - Active - Day - (223).wav_0_block_3.csv from save\n",
      "Loaded ../pickles/CF003 - Active - Day - (223).wav_0_block_4.csv from save\n",
      "[0, 1, 1, 1, 1]\n",
      "Loaded ../pickles/Hive3_15_07_2017_NO_QueenBee_H3_audio___06_30_00.wav_0_block_0.csv from save\n",
      "Loaded ../pickles/Hive3_15_07_2017_NO_QueenBee_H3_audio___06_30_00.wav_0_block_1.csv from save\n",
      "Loaded ../pickles/Hive3_15_07_2017_NO_QueenBee_H3_audio___06_30_00.wav_0_block_2.csv from save\n",
      "Loaded ../pickles/Hive3_15_07_2017_NO_QueenBee_H3_audio___06_30_00.wav_0_block_3.csv from save\n",
      "Loaded ../pickles/Hive3_15_07_2017_NO_QueenBee_H3_audio___06_30_00.wav_0_block_4.csv from save\n",
      "Loaded ../pickles/Hive3_15_07_2017_NO_QueenBee_H3_audio___06_30_00.wav_0_block_5.csv from save\n",
      "Loaded ../pickles/Hive3_15_07_2017_NO_QueenBee_H3_audio___06_30_00.wav_0_block_6.csv from save\n",
      "Loaded ../pickles/Hive3_15_07_2017_NO_QueenBee_H3_audio___06_30_00.wav_0_block_7.csv from save\n",
      "Loaded ../pickles/Hive3_15_07_2017_NO_QueenBee_H3_audio___06_30_00.wav_0_block_8.csv from save\n",
      "Loaded ../pickles/Hive3_15_07_2017_NO_QueenBee_H3_audio___06_30_00.wav_0_block_9.csv from save\n",
      "[0, 0, 0, 0, 0, 0, 0, 0, 0, 1]\n",
      "Loaded ../pickles/CF003 - Active - Day - (215).wav_0_block_0.csv from save\n",
      "Loaded ../pickles/CF003 - Active - Day - (215).wav_0_block_1.csv from save\n",
      "Loaded ../pickles/CF003 - Active - Day - (215).wav_0_block_2.csv from save\n",
      "Loaded ../pickles/CF003 - Active - Day - (215).wav_0_block_3.csv from save\n",
      "Loaded ../pickles/CF003 - Active - Day - (215).wav_0_block_4.csv from save\n",
      "[0, 0, 0, 0, 0]\n",
      "Loaded ../pickles/Hive3_15_07_2017_NO_QueenBee_H3_audio___07_00_00.wav_0_block_0.csv from save\n",
      "Loaded ../pickles/Hive3_15_07_2017_NO_QueenBee_H3_audio___07_00_00.wav_0_block_1.csv from save\n",
      "Loaded ../pickles/Hive3_15_07_2017_NO_QueenBee_H3_audio___07_00_00.wav_0_block_2.csv from save\n",
      "Loaded ../pickles/Hive3_15_07_2017_NO_QueenBee_H3_audio___07_00_00.wav_0_block_3.csv from save\n",
      "Loaded ../pickles/Hive3_15_07_2017_NO_QueenBee_H3_audio___07_00_00.wav_0_block_4.csv from save\n",
      "Loaded ../pickles/Hive3_15_07_2017_NO_QueenBee_H3_audio___07_00_00.wav_0_block_5.csv from save\n",
      "Loaded ../pickles/Hive3_15_07_2017_NO_QueenBee_H3_audio___07_00_00.wav_0_block_6.csv from save\n",
      "Loaded ../pickles/Hive3_15_07_2017_NO_QueenBee_H3_audio___07_00_00.wav_0_block_7.csv from save\n"
     ]
    },
    {
     "name": "stdout",
     "output_type": "stream",
     "text": [
      "Loaded ../pickles/Hive3_15_07_2017_NO_QueenBee_H3_audio___07_00_00.wav_0_block_8.csv from save\n",
      "Loaded ../pickles/Hive3_15_07_2017_NO_QueenBee_H3_audio___07_00_00.wav_0_block_9.csv from save\n",
      "[1, 0, 0, 0, 1, 0, 0, 1, 1, 0]\n",
      "Loaded ../pickles/Hive1_12_06_2018_QueenBee_H1_audio___15_20_00.wav_0_block_0.csv from save\n",
      "Loaded ../pickles/Hive1_12_06_2018_QueenBee_H1_audio___15_20_00.wav_0_block_1.csv from save\n",
      "Loaded ../pickles/Hive1_12_06_2018_QueenBee_H1_audio___15_20_00.wav_0_block_2.csv from save\n",
      "Loaded ../pickles/Hive1_12_06_2018_QueenBee_H1_audio___15_20_00.wav_0_block_3.csv from save\n",
      "Loaded ../pickles/Hive1_12_06_2018_QueenBee_H1_audio___15_20_00.wav_0_block_4.csv from save\n",
      "Loaded ../pickles/Hive1_12_06_2018_QueenBee_H1_audio___15_20_00.wav_0_block_5.csv from save\n",
      "Loaded ../pickles/Hive1_12_06_2018_QueenBee_H1_audio___15_20_00.wav_0_block_6.csv from save\n",
      "Loaded ../pickles/Hive1_12_06_2018_QueenBee_H1_audio___15_20_00.wav_0_block_7.csv from save\n",
      "Loaded ../pickles/Hive1_12_06_2018_QueenBee_H1_audio___15_20_00.wav_0_block_8.csv from save\n",
      "Loaded ../pickles/Hive1_12_06_2018_QueenBee_H1_audio___15_20_00.wav_0_block_9.csv from save\n",
      "[0, 0, 0, 0, 0, 0, 0, 0, 0, 0]\n",
      "Loaded ../pickles/CJ001 - Missing Queen - Day -  (101).wav_0_block_0.csv from save\n",
      "Loaded ../pickles/CJ001 - Missing Queen - Day -  (101).wav_0_block_1.csv from save\n",
      "Loaded ../pickles/CJ001 - Missing Queen - Day -  (101).wav_0_block_2.csv from save\n",
      "Loaded ../pickles/CJ001 - Missing Queen - Day -  (101).wav_0_block_3.csv from save\n",
      "Loaded ../pickles/CJ001 - Missing Queen - Day -  (101).wav_0_block_4.csv from save\n",
      "[1, 0, 0, 0, 0]\n",
      "Loaded ../pickles/CJ001 - Missing Queen - Day -  (100).wav_0_block_0.csv from save\n",
      "Loaded ../pickles/CJ001 - Missing Queen - Day -  (100).wav_0_block_1.csv from save\n",
      "Loaded ../pickles/CJ001 - Missing Queen - Day -  (100).wav_0_block_2.csv from save\n",
      "Loaded ../pickles/CJ001 - Missing Queen - Day -  (100).wav_0_block_3.csv from save\n",
      "Loaded ../pickles/CJ001 - Missing Queen - Day -  (100).wav_0_block_4.csv from save\n",
      "[0, 0, 0, 0, 0]\n",
      "Loaded ../pickles/CF003 - Active - Day - (214).wav_0_block_0.csv from save\n",
      "Loaded ../pickles/CF003 - Active - Day - (214).wav_0_block_1.csv from save\n",
      "Loaded ../pickles/CF003 - Active - Day - (214).wav_0_block_2.csv from save\n",
      "Loaded ../pickles/CF003 - Active - Day - (214).wav_0_block_3.csv from save\n",
      "Loaded ../pickles/CF003 - Active - Day - (214).wav_0_block_4.csv from save\n",
      "[0, 0, 0, 0, 0]\n",
      "Loaded ../pickles/Hive1_12_06_2018_QueenBee_H1_audio___15_30_00.wav_0_block_0.csv from save\n",
      "Loaded ../pickles/Hive1_12_06_2018_QueenBee_H1_audio___15_30_00.wav_0_block_1.csv from save\n",
      "Loaded ../pickles/Hive1_12_06_2018_QueenBee_H1_audio___15_30_00.wav_0_block_2.csv from save\n",
      "Loaded ../pickles/Hive1_12_06_2018_QueenBee_H1_audio___15_30_00.wav_0_block_3.csv from save\n",
      "Loaded ../pickles/Hive1_12_06_2018_QueenBee_H1_audio___15_30_00.wav_0_block_4.csv from save\n",
      "Loaded ../pickles/Hive1_12_06_2018_QueenBee_H1_audio___15_30_00.wav_0_block_5.csv from save\n",
      "Loaded ../pickles/Hive1_12_06_2018_QueenBee_H1_audio___15_30_00.wav_0_block_6.csv from save\n",
      "Loaded ../pickles/Hive1_12_06_2018_QueenBee_H1_audio___15_30_00.wav_0_block_7.csv from save\n",
      "Loaded ../pickles/Hive1_12_06_2018_QueenBee_H1_audio___15_30_00.wav_0_block_8.csv from save\n",
      "Loaded ../pickles/Hive1_12_06_2018_QueenBee_H1_audio___15_30_00.wav_0_block_9.csv from save\n",
      "[0, 0, 0, 0, 0, 0, 0, 0, 0, 0]\n",
      "Loaded ../pickles/Hive1_31_05_2018_NO_QueenBee_H1_audio___15_40_00.wav_0_block_0.csv from save\n",
      "Loaded ../pickles/Hive1_31_05_2018_NO_QueenBee_H1_audio___15_40_00.wav_0_block_1.csv from save\n",
      "Loaded ../pickles/Hive1_31_05_2018_NO_QueenBee_H1_audio___15_40_00.wav_0_block_2.csv from save\n",
      "Loaded ../pickles/Hive1_31_05_2018_NO_QueenBee_H1_audio___15_40_00.wav_0_block_3.csv from save\n",
      "Loaded ../pickles/Hive1_31_05_2018_NO_QueenBee_H1_audio___15_40_00.wav_0_block_4.csv from save\n",
      "Loaded ../pickles/Hive1_31_05_2018_NO_QueenBee_H1_audio___15_40_00.wav_0_block_5.csv from save\n",
      "Loaded ../pickles/Hive1_31_05_2018_NO_QueenBee_H1_audio___15_40_00.wav_0_block_6.csv from save\n",
      "Loaded ../pickles/Hive1_31_05_2018_NO_QueenBee_H1_audio___15_40_00.wav_0_block_7.csv from save\n",
      "Loaded ../pickles/Hive1_31_05_2018_NO_QueenBee_H1_audio___15_40_00.wav_0_block_8.csv from save\n",
      "Loaded ../pickles/Hive1_31_05_2018_NO_QueenBee_H1_audio___15_40_00.wav_0_block_9.csv from save\n",
      "[0, 0, 0, 0, 0, 0, 0, 0, 0, 0]\n",
      "Loaded ../pickles/CF003 - Active - Day - (222).wav_0_block_0.csv from save\n",
      "Loaded ../pickles/CF003 - Active - Day - (222).wav_0_block_1.csv from save\n",
      "Loaded ../pickles/CF003 - Active - Day - (222).wav_0_block_2.csv from save\n",
      "Loaded ../pickles/CF003 - Active - Day - (222).wav_0_block_3.csv from save\n",
      "Loaded ../pickles/CF003 - Active - Day - (222).wav_0_block_4.csv from save\n",
      "[1, 1, 1, 1, 1]\n",
      "Loaded ../pickles/Hive3_12_07_2017_NO_QueenBee_H3_audio___15_40_00.wav_0_block_0.csv from save\n",
      "Loaded ../pickles/Hive3_12_07_2017_NO_QueenBee_H3_audio___15_40_00.wav_0_block_1.csv from save\n",
      "Loaded ../pickles/Hive3_12_07_2017_NO_QueenBee_H3_audio___15_40_00.wav_0_block_2.csv from save\n",
      "Loaded ../pickles/Hive3_12_07_2017_NO_QueenBee_H3_audio___15_40_00.wav_0_block_3.csv from save\n",
      "Loaded ../pickles/Hive3_12_07_2017_NO_QueenBee_H3_audio___15_40_00.wav_0_block_4.csv from save\n",
      "Loaded ../pickles/Hive3_12_07_2017_NO_QueenBee_H3_audio___15_40_00.wav_0_block_5.csv from save\n",
      "Loaded ../pickles/Hive3_12_07_2017_NO_QueenBee_H3_audio___15_40_00.wav_0_block_6.csv from save\n",
      "Loaded ../pickles/Hive3_12_07_2017_NO_QueenBee_H3_audio___15_40_00.wav_0_block_7.csv from save\n",
      "Loaded ../pickles/Hive3_12_07_2017_NO_QueenBee_H3_audio___15_40_00.wav_0_block_8.csv from save\n",
      "Loaded ../pickles/Hive3_12_07_2017_NO_QueenBee_H3_audio___15_40_00.wav_0_block_9.csv from save\n",
      "[1, 1, 0, 0, 0, 1, 1, 1, 0, 0]\n",
      "Loaded ../pickles/Hive3_15_07_2017_NO_QueenBee_H3_audio___06_20_00.wav_0_block_0.csv from save\n",
      "Loaded ../pickles/Hive3_15_07_2017_NO_QueenBee_H3_audio___06_20_00.wav_0_block_1.csv from save\n",
      "Loaded ../pickles/Hive3_15_07_2017_NO_QueenBee_H3_audio___06_20_00.wav_0_block_2.csv from save\n",
      "Loaded ../pickles/Hive3_15_07_2017_NO_QueenBee_H3_audio___06_20_00.wav_0_block_3.csv from save\n",
      "Loaded ../pickles/Hive3_15_07_2017_NO_QueenBee_H3_audio___06_20_00.wav_0_block_4.csv from save\n",
      "Loaded ../pickles/Hive3_15_07_2017_NO_QueenBee_H3_audio___06_20_00.wav_0_block_5.csv from save\n",
      "Loaded ../pickles/Hive3_15_07_2017_NO_QueenBee_H3_audio___06_20_00.wav_0_block_6.csv from save\n",
      "Loaded ../pickles/Hive3_15_07_2017_NO_QueenBee_H3_audio___06_20_00.wav_0_block_7.csv from save\n",
      "Loaded ../pickles/Hive3_15_07_2017_NO_QueenBee_H3_audio___06_20_00.wav_0_block_8.csv from save\n",
      "Loaded ../pickles/Hive3_15_07_2017_NO_QueenBee_H3_audio___06_20_00.wav_0_block_9.csv from save\n",
      "[0, 0, 0, 0, 0, 0, 0, 0, 1, 0]\n",
      "Loaded ../pickles/CF003 - Active - Day - (218).wav_0_block_0.csv from save\n",
      "Loaded ../pickles/CF003 - Active - Day - (218).wav_0_block_1.csv from save\n",
      "Loaded ../pickles/CF003 - Active - Day - (218).wav_0_block_2.csv from save\n",
      "Loaded ../pickles/CF003 - Active - Day - (218).wav_0_block_3.csv from save\n",
      "Loaded ../pickles/CF003 - Active - Day - (218).wav_0_block_4.csv from save\n",
      "[0, 1, 0, 0, 0]\n",
      "Loaded ../pickles/Hive1_12_06_2018_QueenBee_H1_audio___15_10_00.wav_0_block_0.csv from save\n",
      "Loaded ../pickles/Hive1_12_06_2018_QueenBee_H1_audio___15_10_00.wav_0_block_1.csv from save\n",
      "Loaded ../pickles/Hive1_12_06_2018_QueenBee_H1_audio___15_10_00.wav_0_block_2.csv from save\n",
      "Loaded ../pickles/Hive1_12_06_2018_QueenBee_H1_audio___15_10_00.wav_0_block_3.csv from save\n",
      "Loaded ../pickles/Hive1_12_06_2018_QueenBee_H1_audio___15_10_00.wav_0_block_4.csv from save\n",
      "Loaded ../pickles/Hive1_12_06_2018_QueenBee_H1_audio___15_10_00.wav_0_block_5.csv from save\n",
      "Loaded ../pickles/Hive1_12_06_2018_QueenBee_H1_audio___15_10_00.wav_0_block_6.csv from save\n",
      "Loaded ../pickles/Hive1_12_06_2018_QueenBee_H1_audio___15_10_00.wav_0_block_7.csv from save\n",
      "Loaded ../pickles/Hive1_12_06_2018_QueenBee_H1_audio___15_10_00.wav_0_block_8.csv from save\n",
      "Loaded ../pickles/Hive1_12_06_2018_QueenBee_H1_audio___15_10_00.wav_0_block_9.csv from save\n",
      "[0, 0, 0, 0, 0, 0, 0, 0, 1, 0]\n",
      "Loaded ../pickles/Hive1_12_06_2018_QueenBee_H1_audio___16_50_00.wav_0_block_0.csv from save\n",
      "Loaded ../pickles/Hive1_12_06_2018_QueenBee_H1_audio___16_50_00.wav_0_block_1.csv from save\n",
      "Loaded ../pickles/Hive1_12_06_2018_QueenBee_H1_audio___16_50_00.wav_0_block_2.csv from save\n"
     ]
    },
    {
     "name": "stdout",
     "output_type": "stream",
     "text": [
      "Loaded ../pickles/Hive1_12_06_2018_QueenBee_H1_audio___16_50_00.wav_0_block_3.csv from save\n",
      "Loaded ../pickles/Hive1_12_06_2018_QueenBee_H1_audio___16_50_00.wav_0_block_4.csv from save\n",
      "Loaded ../pickles/Hive1_12_06_2018_QueenBee_H1_audio___16_50_00.wav_0_block_5.csv from save\n",
      "Loaded ../pickles/Hive1_12_06_2018_QueenBee_H1_audio___16_50_00.wav_0_block_6.csv from save\n",
      "Loaded ../pickles/Hive1_12_06_2018_QueenBee_H1_audio___16_50_00.wav_0_block_7.csv from save\n",
      "Loaded ../pickles/Hive1_12_06_2018_QueenBee_H1_audio___16_50_00.wav_0_block_8.csv from save\n",
      "Loaded ../pickles/Hive1_12_06_2018_QueenBee_H1_audio___16_50_00.wav_0_block_9.csv from save\n",
      "[0, 0, 0, 0, 0, 0, 1, 1, 0, 0]\n",
      "Loaded ../pickles/Hive3_20_07_2017_QueenBee_H3_audio___06_10_00.wav_0_block_0.csv from save\n",
      "Loaded ../pickles/Hive3_20_07_2017_QueenBee_H3_audio___06_10_00.wav_0_block_1.csv from save\n",
      "Loaded ../pickles/Hive3_20_07_2017_QueenBee_H3_audio___06_10_00.wav_0_block_2.csv from save\n",
      "Loaded ../pickles/Hive3_20_07_2017_QueenBee_H3_audio___06_10_00.wav_0_block_3.csv from save\n",
      "Loaded ../pickles/Hive3_20_07_2017_QueenBee_H3_audio___06_10_00.wav_0_block_4.csv from save\n",
      "Loaded ../pickles/Hive3_20_07_2017_QueenBee_H3_audio___06_10_00.wav_0_block_5.csv from save\n",
      "Loaded ../pickles/Hive3_20_07_2017_QueenBee_H3_audio___06_10_00.wav_0_block_6.csv from save\n",
      "Loaded ../pickles/Hive3_20_07_2017_QueenBee_H3_audio___06_10_00.wav_0_block_7.csv from save\n",
      "Loaded ../pickles/Hive3_20_07_2017_QueenBee_H3_audio___06_10_00.wav_0_block_8.csv from save\n",
      "Loaded ../pickles/Hive3_20_07_2017_QueenBee_H3_audio___06_10_00.wav_0_block_9.csv from save\n",
      "[0, 0, 0, 0, 0, 0, 0, 0, 0, 0]\n",
      "Loaded ../pickles/Hive3_12_07_2017_NO_QueenBee_H3_audio___16_20_00.wav_0_block_0.csv from save\n",
      "Loaded ../pickles/Hive3_12_07_2017_NO_QueenBee_H3_audio___16_20_00.wav_0_block_1.csv from save\n",
      "Loaded ../pickles/Hive3_12_07_2017_NO_QueenBee_H3_audio___16_20_00.wav_0_block_2.csv from save\n",
      "Loaded ../pickles/Hive3_12_07_2017_NO_QueenBee_H3_audio___16_20_00.wav_0_block_3.csv from save\n",
      "Loaded ../pickles/Hive3_12_07_2017_NO_QueenBee_H3_audio___16_20_00.wav_0_block_4.csv from save\n",
      "Loaded ../pickles/Hive3_12_07_2017_NO_QueenBee_H3_audio___16_20_00.wav_0_block_5.csv from save\n",
      "Loaded ../pickles/Hive3_12_07_2017_NO_QueenBee_H3_audio___16_20_00.wav_0_block_6.csv from save\n",
      "Loaded ../pickles/Hive3_12_07_2017_NO_QueenBee_H3_audio___16_20_00.wav_0_block_7.csv from save\n",
      "Loaded ../pickles/Hive3_12_07_2017_NO_QueenBee_H3_audio___16_20_00.wav_0_block_8.csv from save\n",
      "Loaded ../pickles/Hive3_12_07_2017_NO_QueenBee_H3_audio___16_20_00.wav_0_block_9.csv from save\n",
      "[1, 1, 1, 1, 0, 0, 0, 0, 0, 1]\n",
      "Loaded ../pickles/CF003 - Active - Day - (225).wav_0_block_0.csv from save\n",
      "Loaded ../pickles/CF003 - Active - Day - (225).wav_0_block_1.csv from save\n",
      "Loaded ../pickles/CF003 - Active - Day - (225).wav_0_block_2.csv from save\n",
      "Loaded ../pickles/CF003 - Active - Day - (225).wav_0_block_3.csv from save\n",
      "Loaded ../pickles/CF003 - Active - Day - (225).wav_0_block_4.csv from save\n",
      "[1, 1, 1, 1, 1]\n",
      "Loaded ../pickles/Hive3_12_07_2017_NO_QueenBee_H3_audio___16_30_00.wav_0_block_0.csv from save\n",
      "Loaded ../pickles/Hive3_12_07_2017_NO_QueenBee_H3_audio___16_30_00.wav_0_block_1.csv from save\n",
      "Loaded ../pickles/Hive3_12_07_2017_NO_QueenBee_H3_audio___16_30_00.wav_0_block_2.csv from save\n",
      "Loaded ../pickles/Hive3_12_07_2017_NO_QueenBee_H3_audio___16_30_00.wav_0_block_3.csv from save\n",
      "Loaded ../pickles/Hive3_12_07_2017_NO_QueenBee_H3_audio___16_30_00.wav_0_block_4.csv from save\n",
      "Loaded ../pickles/Hive3_12_07_2017_NO_QueenBee_H3_audio___16_30_00.wav_0_block_5.csv from save\n",
      "Loaded ../pickles/Hive3_12_07_2017_NO_QueenBee_H3_audio___16_30_00.wav_0_block_6.csv from save\n",
      "Loaded ../pickles/Hive3_12_07_2017_NO_QueenBee_H3_audio___16_30_00.wav_0_block_7.csv from save\n",
      "Loaded ../pickles/Hive3_12_07_2017_NO_QueenBee_H3_audio___16_30_00.wav_0_block_8.csv from save\n",
      "Loaded ../pickles/Hive3_12_07_2017_NO_QueenBee_H3_audio___16_30_00.wav_0_block_9.csv from save\n",
      "[1, 1, 1, 1, 0, 0, 0, 0, 1, 1]\n",
      "Loaded ../pickles/CF003 - Active - Day - (224).wav_0_block_0.csv from save\n",
      "Loaded ../pickles/CF003 - Active - Day - (224).wav_0_block_1.csv from save\n",
      "Loaded ../pickles/CF003 - Active - Day - (224).wav_0_block_2.csv from save\n",
      "Loaded ../pickles/CF003 - Active - Day - (224).wav_0_block_3.csv from save\n",
      "Loaded ../pickles/CF003 - Active - Day - (224).wav_0_block_4.csv from save\n",
      "[1, 1, 0, 1, 0]\n",
      "Loaded ../pickles/Hive3_15_07_2017_NO_QueenBee_H3_audio___06_10_00.wav_0_block_0.csv from save\n",
      "Loaded ../pickles/Hive3_15_07_2017_NO_QueenBee_H3_audio___06_10_00.wav_0_block_1.csv from save\n",
      "Loaded ../pickles/Hive3_15_07_2017_NO_QueenBee_H3_audio___06_10_00.wav_0_block_2.csv from save\n",
      "Loaded ../pickles/Hive3_15_07_2017_NO_QueenBee_H3_audio___06_10_00.wav_0_block_3.csv from save\n",
      "Loaded ../pickles/Hive3_15_07_2017_NO_QueenBee_H3_audio___06_10_00.wav_0_block_4.csv from save\n",
      "Loaded ../pickles/Hive3_15_07_2017_NO_QueenBee_H3_audio___06_10_00.wav_0_block_5.csv from save\n",
      "Loaded ../pickles/Hive3_15_07_2017_NO_QueenBee_H3_audio___06_10_00.wav_0_block_6.csv from save\n",
      "Loaded ../pickles/Hive3_15_07_2017_NO_QueenBee_H3_audio___06_10_00.wav_0_block_7.csv from save\n",
      "Loaded ../pickles/Hive3_15_07_2017_NO_QueenBee_H3_audio___06_10_00.wav_0_block_8.csv from save\n",
      "Loaded ../pickles/Hive3_15_07_2017_NO_QueenBee_H3_audio___06_10_00.wav_0_block_9.csv from save\n",
      "[0, 0, 0, 0, 1, 0, 0, 0, 0, 0]\n",
      "Loaded ../pickles/Hive3_12_07_2017_NO_QueenBee_H3_audio___17_00_00.wav_0_block_0.csv from save\n",
      "Loaded ../pickles/Hive3_12_07_2017_NO_QueenBee_H3_audio___17_00_00.wav_0_block_1.csv from save\n",
      "Loaded ../pickles/Hive3_12_07_2017_NO_QueenBee_H3_audio___17_00_00.wav_0_block_2.csv from save\n",
      "Loaded ../pickles/Hive3_12_07_2017_NO_QueenBee_H3_audio___17_00_00.wav_0_block_3.csv from save\n",
      "Loaded ../pickles/Hive3_12_07_2017_NO_QueenBee_H3_audio___17_00_00.wav_0_block_4.csv from save\n",
      "Loaded ../pickles/Hive3_12_07_2017_NO_QueenBee_H3_audio___17_00_00.wav_0_block_5.csv from save\n",
      "Loaded ../pickles/Hive3_12_07_2017_NO_QueenBee_H3_audio___17_00_00.wav_0_block_6.csv from save\n",
      "Loaded ../pickles/Hive3_12_07_2017_NO_QueenBee_H3_audio___17_00_00.wav_0_block_7.csv from save\n",
      "Loaded ../pickles/Hive3_12_07_2017_NO_QueenBee_H3_audio___17_00_00.wav_0_block_8.csv from save\n",
      "Loaded ../pickles/Hive3_12_07_2017_NO_QueenBee_H3_audio___17_00_00.wav_0_block_9.csv from save\n",
      "[1, 0, 0, 0, 0, 0, 0, 0, 0, 0]\n",
      "Loaded ../pickles/Hive1_12_06_2018_QueenBee_H1_audio___15_00_00.wav_0_block_0.csv from save\n",
      "Loaded ../pickles/Hive1_12_06_2018_QueenBee_H1_audio___15_00_00.wav_0_block_1.csv from save\n",
      "Loaded ../pickles/Hive1_12_06_2018_QueenBee_H1_audio___15_00_00.wav_0_block_2.csv from save\n",
      "Loaded ../pickles/Hive1_12_06_2018_QueenBee_H1_audio___15_00_00.wav_0_block_3.csv from save\n",
      "Loaded ../pickles/Hive1_12_06_2018_QueenBee_H1_audio___15_00_00.wav_0_block_4.csv from save\n",
      "Loaded ../pickles/Hive1_12_06_2018_QueenBee_H1_audio___15_00_00.wav_0_block_5.csv from save\n",
      "Loaded ../pickles/Hive1_12_06_2018_QueenBee_H1_audio___15_00_00.wav_0_block_6.csv from save\n",
      "Loaded ../pickles/Hive1_12_06_2018_QueenBee_H1_audio___15_00_00.wav_0_block_7.csv from save\n",
      "Loaded ../pickles/Hive1_12_06_2018_QueenBee_H1_audio___15_00_00.wav_0_block_8.csv from save\n",
      "Loaded ../pickles/Hive1_12_06_2018_QueenBee_H1_audio___15_00_00.wav_0_block_9.csv from save\n",
      "[0, 0, 0, 0, 0, 0, 0, 0, 0, 0]\n",
      "Loaded ../pickles/Hive1_12_06_2018_QueenBee_H1_audio___16_40_00.wav_0_block_0.csv from save\n",
      "Loaded ../pickles/Hive1_12_06_2018_QueenBee_H1_audio___16_40_00.wav_0_block_1.csv from save\n",
      "Loaded ../pickles/Hive1_12_06_2018_QueenBee_H1_audio___16_40_00.wav_0_block_2.csv from save\n",
      "Loaded ../pickles/Hive1_12_06_2018_QueenBee_H1_audio___16_40_00.wav_0_block_3.csv from save\n",
      "Loaded ../pickles/Hive1_12_06_2018_QueenBee_H1_audio___16_40_00.wav_0_block_4.csv from save\n",
      "Loaded ../pickles/Hive1_12_06_2018_QueenBee_H1_audio___16_40_00.wav_0_block_5.csv from save\n",
      "Loaded ../pickles/Hive1_12_06_2018_QueenBee_H1_audio___16_40_00.wav_0_block_6.csv from save\n",
      "Loaded ../pickles/Hive1_12_06_2018_QueenBee_H1_audio___16_40_00.wav_0_block_7.csv from save\n",
      "Loaded ../pickles/Hive1_12_06_2018_QueenBee_H1_audio___16_40_00.wav_0_block_8.csv from save\n",
      "Loaded ../pickles/Hive1_12_06_2018_QueenBee_H1_audio___16_40_00.wav_0_block_9.csv from save\n",
      "[1, 1, 0, 0, 0, 0, 0, 0, 0, 1]\n",
      "Loaded ../pickles/GH001 - Active - Day - 141022_0659_0751.mp3_0_block_0.csv from save\n"
     ]
    },
    {
     "name": "stdout",
     "output_type": "stream",
     "text": [
      "Loaded ../pickles/GH001 - Active - Day - 141022_0659_0751.mp3_0_block_1.csv from save\n",
      "Loaded ../pickles/GH001 - Active - Day - 141022_0659_0751.mp3_0_block_2.csv from save\n",
      "Loaded ../pickles/GH001 - Active - Day - 141022_0659_0751.mp3_0_block_3.csv from save\n",
      "Loaded ../pickles/GH001 - Active - Day - 141022_0659_0751.mp3_0_block_4.csv from save\n",
      "Loaded ../pickles/GH001 - Active - Day - 141022_0659_0751.mp3_0_block_5.csv from save\n",
      "Loaded ../pickles/GH001 - Active - Day - 141022_0659_0751.mp3_0_block_6.csv from save\n",
      "Loaded ../pickles/GH001 - Active - Day - 141022_0659_0751.mp3_0_block_7.csv from save\n",
      "Loaded ../pickles/GH001 - Active - Day - 141022_0659_0751.mp3_0_block_8.csv from save\n",
      "Loaded ../pickles/GH001 - Active - Day - 141022_0659_0751.mp3_0_block_9.csv from save\n",
      "Loaded ../pickles/GH001 - Active - Day - 141022_0659_0751.mp3_0_block_10.csv from save\n",
      "Loaded ../pickles/GH001 - Active - Day - 141022_0659_0751.mp3_0_block_11.csv from save\n",
      "Loaded ../pickles/GH001 - Active - Day - 141022_0659_0751.mp3_0_block_12.csv from save\n",
      "Loaded ../pickles/GH001 - Active - Day - 141022_0659_0751.mp3_0_block_13.csv from save\n",
      "Loaded ../pickles/GH001 - Active - Day - 141022_0659_0751.mp3_0_block_14.csv from save\n",
      "Loaded ../pickles/GH001 - Active - Day - 141022_0659_0751.mp3_0_block_15.csv from save\n",
      "Loaded ../pickles/GH001 - Active - Day - 141022_0659_0751.mp3_0_block_16.csv from save\n",
      "Loaded ../pickles/GH001 - Active - Day - 141022_0659_0751.mp3_0_block_17.csv from save\n",
      "Loaded ../pickles/GH001 - Active - Day - 141022_0659_0751.mp3_0_block_18.csv from save\n",
      "Loaded ../pickles/GH001 - Active - Day - 141022_0659_0751.mp3_0_block_19.csv from save\n",
      "Loaded ../pickles/GH001 - Active - Day - 141022_0659_0751.mp3_0_block_20.csv from save\n",
      "Loaded ../pickles/GH001 - Active - Day - 141022_0659_0751.mp3_0_block_21.csv from save\n",
      "Loaded ../pickles/GH001 - Active - Day - 141022_0659_0751.mp3_0_block_22.csv from save\n",
      "Loaded ../pickles/GH001 - Active - Day - 141022_0659_0751.mp3_0_block_23.csv from save\n",
      "Loaded ../pickles/GH001 - Active - Day - 141022_0659_0751.mp3_0_block_24.csv from save\n",
      "Loaded ../pickles/GH001 - Active - Day - 141022_0659_0751.mp3_0_block_25.csv from save\n",
      "Loaded ../pickles/GH001 - Active - Day - 141022_0659_0751.mp3_0_block_26.csv from save\n",
      "Loaded ../pickles/GH001 - Active - Day - 141022_0659_0751.mp3_0_block_27.csv from save\n",
      "Loaded ../pickles/GH001 - Active - Day - 141022_0659_0751.mp3_0_block_28.csv from save\n",
      "Loaded ../pickles/GH001 - Active - Day - 141022_0659_0751.mp3_0_block_29.csv from save\n",
      "Loaded ../pickles/GH001 - Active - Day - 141022_0659_0751.mp3_0_block_30.csv from save\n",
      "Loaded ../pickles/GH001 - Active - Day - 141022_0659_0751.mp3_0_block_31.csv from save\n",
      "Loaded ../pickles/GH001 - Active - Day - 141022_0659_0751.mp3_0_block_32.csv from save\n",
      "Loaded ../pickles/GH001 - Active - Day - 141022_0659_0751.mp3_0_block_33.csv from save\n",
      "Loaded ../pickles/GH001 - Active - Day - 141022_0659_0751.mp3_0_block_34.csv from save\n",
      "Loaded ../pickles/GH001 - Active - Day - 141022_0659_0751.mp3_0_block_35.csv from save\n",
      "Loaded ../pickles/GH001 - Active - Day - 141022_0659_0751.mp3_0_block_36.csv from save\n",
      "Loaded ../pickles/GH001 - Active - Day - 141022_0659_0751.mp3_0_block_37.csv from save\n",
      "Loaded ../pickles/GH001 - Active - Day - 141022_0659_0751.mp3_0_block_38.csv from save\n",
      "Loaded ../pickles/GH001 - Active - Day - 141022_0659_0751.mp3_0_block_39.csv from save\n",
      "Loaded ../pickles/GH001 - Active - Day - 141022_0659_0751.mp3_0_block_40.csv from save\n",
      "Loaded ../pickles/GH001 - Active - Day - 141022_0659_0751.mp3_0_block_41.csv from save\n",
      "Loaded ../pickles/GH001 - Active - Day - 141022_0659_0751.mp3_0_block_42.csv from save\n",
      "Loaded ../pickles/GH001 - Active - Day - 141022_0659_0751.mp3_0_block_43.csv from save\n",
      "Loaded ../pickles/GH001 - Active - Day - 141022_0659_0751.mp3_0_block_44.csv from save\n",
      "Loaded ../pickles/GH001 - Active - Day - 141022_0659_0751.mp3_0_block_45.csv from save\n",
      "Loaded ../pickles/GH001 - Active - Day - 141022_0659_0751.mp3_0_block_46.csv from save\n",
      "Loaded ../pickles/GH001 - Active - Day - 141022_0659_0751.mp3_0_block_47.csv from save\n",
      "Loaded ../pickles/GH001 - Active - Day - 141022_0659_0751.mp3_0_block_48.csv from save\n",
      "Loaded ../pickles/GH001 - Active - Day - 141022_0659_0751.mp3_0_block_49.csv from save\n",
      "Loaded ../pickles/GH001 - Active - Day - 141022_0659_0751.mp3_0_block_50.csv from save\n",
      "Loaded ../pickles/GH001 - Active - Day - 141022_0659_0751.mp3_0_block_51.csv from save\n",
      "Loaded ../pickles/GH001 - Active - Day - 141022_0659_0751.mp3_0_block_52.csv from save\n",
      "[1, 0, 0, 1, 1, 0, 0, 0, 1, 1, 1, 1, 0, 0, 0, 0, 0, 0, 0, 0, 1, 0, 1, 0, 0, 0, 0, 0, 0, 0, 0, 0, 0, 0, 0, 0, 0, 0, 0, 0, 0, 0, 0, 0, 0, 0, 0, 0, 0, 0, 0, 0, 1]\n",
      "Loaded ../pickles/CF001 - Missing Queen - Day -.mp3_0_block_0.csv from save\n",
      "[0]\n"
     ]
    }
   ],
   "source": [
    "sound_arr = []\n",
    "notation_arr = []\n",
    "\n",
    "psf = open(parsed_dir + f\"/_ParsedSounds_{threshold_val}.txt\", \"a\")\n",
    "# goes through each soundfile, parses, and saves mel spectrogram of blocks\n",
    "# TODO: make a registry containing all existing soundfiles. Only parse and save if it doesn't exist\n",
    "for audio in (wavs + mp3s):\n",
    "    audio_filename = audio.replace(directory, \"\")[1:]\n",
    "\n",
    "    if audio_filename not in psfn:\n",
    "        parsed_audio = get_blocks_from_filename(audio, 60, threshold_val)\n",
    "        tmp_notation_arr = []\n",
    "        for idx, audio_block in enumerate(parsed_audio):\n",
    "            spec = librosa.feature.melspectrogram(audio_block.clip, sr=sr, n_fft=n_fft, hop_length=hop_length)\n",
    "            sound_arr.append(spec)\n",
    "            if audio_block.nobee == \"nobee\": \n",
    "                notation_arr.append(0)\n",
    "                tmp_notation_arr.append(0)\n",
    "            elif audio_block.nobee == \"bee\":\n",
    "                notation_arr.append(1)\n",
    "                tmp_notation_arr.append(1)\n",
    "            else:\n",
    "                exit(-1)\n",
    "            pd.DataFrame(spec).to_csv(os.path.join(parsed_dir, f\"{audio_filename}_{threshold_val}_block_{idx}.csv\"))\n",
    "\n",
    "        psf.write(audio_filename + \"\\n\")\n",
    "        psf.write(str(tmp_notation_arr) + \"\\n\")\n",
    "        psfn.append(audio_filename)\n",
    "        psfn.append(tmp_notation_arr)\n",
    "    else:\n",
    "        i = 0\n",
    "        parsed_csv_file = os.path.join(parsed_dir, f\"{audio_filename}_{threshold_val}_block_{i}.csv\")\n",
    "        while os.path.exists(parsed_csv_file):\n",
    "            print(f\"Loaded {parsed_csv_file} from save\")\n",
    "            df = pd.read_csv(parsed_csv_file)\n",
    "            del df[\"Unnamed: 0\"]\n",
    "            sound_arr.append(df.to_numpy())\n",
    "            i += 1\n",
    "            parsed_csv_file = os.path.join(parsed_dir, f\"{audio_filename}_{threshold_val}_block_{i}.csv\")\n",
    "        notations = [int(n) for n in psfn[psfn.index(audio_filename) + 1].lstrip(\"[\").rstrip(\"]\").split(\", \")]\n",
    "        print(notations)\n",
    "        notation_arr = np.append(notation_arr, notations)\n",
    "\n",
    "mfccs = [librosa.feature.mfcc(S=s, n_mfcc=20) for s in sound_arr]\n",
    "input_arr = np.array(mfccs)\n",
    "input_arr = input_arr.reshape(input_arr.shape[0], input_arr.shape[1] * input_arr.shape[2])\n",
    "psf.close()\n",
    "    # tmp_file = open(os.path.join(directory[:-5], \"pickles/sound\" + str(idx) + \".txt\"), \"wb\")\n",
    "    # annotation = audio_block.nobee == 'bee'\n",
    "    # pickle.dump(spec, tmp_file)\n",
    "    # tmp_file.close()\n",
    "    # for index, i in enumerate(spec):\n",
    "    #   sound_arr.append([os.path.split(audio)[-1], idx, index, i])"
   ]
  },
  {
   "cell_type": "code",
   "execution_count": 17,
   "metadata": {
    "colab": {
     "base_uri": "https://localhost:8080/"
    },
    "executionInfo": {
     "elapsed": 34,
     "status": "ok",
     "timestamp": 1654887774756,
     "user": {
      "displayName": "Scott Vo",
      "userId": "13143144038006176710"
     },
     "user_tz": 420
    },
    "id": "PBmMD7EdpIE6",
    "outputId": "a6c37a46-de8a-4e0c-80a7-86879009862a"
   },
   "outputs": [
    {
     "data": {
      "text/plain": [
       "(499, 84020)"
      ]
     },
     "execution_count": 17,
     "metadata": {},
     "output_type": "execute_result"
    }
   ],
   "source": [
    "# # np.array(sound_arr[0])\n",
    "# # print(type(sound_arr))\n",
    "# print(sound_arr)\n",
    "# print(notation_arr)\n",
    "# mfccs = librosa.feature.mfcc(S=sound_arr[0], n_mfcc=20)\n",
    "input_arr.shape\n",
    "# input_arr = np.array(mfccs)"
   ]
  },
  {
   "cell_type": "code",
   "execution_count": 18,
   "metadata": {
    "executionInfo": {
     "elapsed": 26,
     "status": "ok",
     "timestamp": 1654887774758,
     "user": {
      "displayName": "Scott Vo",
      "userId": "13143144038006176710"
     },
     "user_tz": 420
    },
    "id": "SzIs57MgJS3e"
   },
   "outputs": [],
   "source": [
    "# df = pd.DataFrame(sound_arr)"
   ]
  },
  {
   "cell_type": "code",
   "execution_count": 19,
   "metadata": {
    "colab": {
     "base_uri": "https://localhost:8080/",
     "height": 300
    },
    "executionInfo": {
     "elapsed": 779,
     "status": "ok",
     "timestamp": 1654800456355,
     "user": {
      "displayName": "Scott Vo",
      "userId": "13143144038006176710"
     },
     "user_tz": 420
    },
    "id": "16JKA4y3apuD",
    "outputId": "60897353-3214-4619-e553-2601e2e7ff3c"
   },
   "outputs": [
    {
     "name": "stdout",
     "output_type": "stream",
     "text": [
      "1.1329058\n"
     ]
    },
    {
     "data": {
      "image/png": "[encoded data removed]",
      "text/plain": [
       "<Figure size 432x288 with 2 Axes>"
      ]
     },
     "metadata": {
      "needs_background": "light"
     },
     "output_type": "display_data"
    }
   ],
   "source": [
    "curr_wave = sound_arr[100]\n",
    "# print(type(sound_arr[100]))\n",
    "# S = librosa.feature.melspectrogram(curr_wave.data, sr=sr, n_fft=n_fft, hop_length=hop_length)\n",
    "img = librosa.display.specshow(curr_wave, sr=sr, hop_length=hop_length, y_axis=\"linear\", x_axis=\"time\")\n",
    "plt.colorbar(img)\n",
    "print(curr_wave.max())\n",
    "# print(curr_wave.values)\n",
    "# curr_wave"
   ]
  },
  {
   "cell_type": "code",
   "execution_count": 20,
   "metadata": {
    "executionInfo": {
     "elapsed": 12,
     "status": "ok",
     "timestamp": 1654800456356,
     "user": {
      "displayName": "Scott Vo",
      "userId": "13143144038006176710"
     },
     "user_tz": 420
    },
    "id": "04lT3kw5S5rO"
   },
   "outputs": [],
   "source": [
    "# librosa.display.specshow(spec, sr=sr, hop_length=hop_length, y_axis=\"linear\", x_axis=\"time\")"
   ]
  },
  {
   "cell_type": "code",
   "execution_count": 21,
   "metadata": {
    "executionInfo": {
     "elapsed": 30,
     "status": "ok",
     "timestamp": 1654800175811,
     "user": {
      "displayName": "Scott Vo",
      "userId": "13143144038006176710"
     },
     "user_tz": 420
    },
    "id": "M0vbk1l5uVG6"
   },
   "outputs": [],
   "source": [
    "# how to convert pd row intos pec\n",
    "# librosa.display.specshow(np.vstack(list(df.iloc[-1][2:])), sr=sr, hop_length=hop_length, y_axis=\"linear\", x_axis=\"time\")"
   ]
  },
  {
   "cell_type": "code",
   "execution_count": 22,
   "metadata": {
    "executionInfo": {
     "elapsed": 29,
     "status": "ok",
     "timestamp": 1654800175813,
     "user": {
      "displayName": "Scott Vo",
      "userId": "13143144038006176710"
     },
     "user_tz": 420
    },
    "id": "c_-yB8CEkHfW"
   },
   "outputs": [],
   "source": [
    "# print([audio_block.nobee == 'nobee' for audio_block in parsed_audio])\n",
    "# print([audio_block.nobee for audio_block in parsed_audio])"
   ]
  },
  {
   "cell_type": "code",
   "execution_count": 23,
   "metadata": {
    "executionInfo": {
     "elapsed": 28,
     "status": "ok",
     "timestamp": 1654800175815,
     "user": {
      "displayName": "Scott Vo",
      "userId": "13143144038006176710"
     },
     "user_tz": 420
    },
    "id": "jfVUovF7vr_G"
   },
   "outputs": [],
   "source": [
    "# for i in np.unique(notation_arr):\n",
    "#   print(f'Number of {i}\\'s: {notation_arr.count(i)}')"
   ]
  },
  {
   "cell_type": "code",
   "execution_count": 24,
   "metadata": {
    "executionInfo": {
     "elapsed": 27,
     "status": "ok",
     "timestamp": 1654800175816,
     "user": {
      "displayName": "Scott Vo",
      "userId": "13143144038006176710"
     },
     "user_tz": 420
    },
    "id": "vC1IYH2cHsFv"
   },
   "outputs": [],
   "source": [
    "# print(np.array(sound_arr).shape)\n",
    "# print(notation_arr)"
   ]
  },
  {
   "cell_type": "code",
   "execution_count": 25,
   "metadata": {
    "colab": {
     "base_uri": "https://localhost:8080/"
    },
    "executionInfo": {
     "elapsed": 2947,
     "status": "ok",
     "timestamp": 1654800178741,
     "user": {
      "displayName": "Scott Vo",
      "userId": "13143144038006176710"
     },
     "user_tz": 420
    },
    "id": "GDbWRMUFYvDj",
    "outputId": "523f86df-d32d-4cc9-f7cd-f71d83011ea0"
   },
   "outputs": [],
   "source": [
    "\n",
    "# input_arr = np.array(sound_arr).reshape(len(sound_arr), 128*4201)\n",
    "\n",
    "# print(input_arr.shape)"
   ]
  },
  {
   "cell_type": "code",
   "execution_count": 26,
   "metadata": {
    "id": "rmlu6T_3jxLR"
   },
   "outputs": [
    {
     "data": {
      "text/plain": [
       "array([[ 2.58201205e-02,  8.61449430e-02,  1.84435787e-01, ...,\n",
       "        -2.17323103e-02, -8.56994001e-03, -2.88114488e-03],\n",
       "       [ 2.16798330e-02,  6.10829312e-02,  1.10287830e-01, ...,\n",
       "        -1.04399997e-02, -1.43847830e-03, -5.51872552e-03],\n",
       "       [ 2.62946050e-02,  5.73923234e-02,  7.89289606e-02, ...,\n",
       "         3.95071151e-03, -1.17310810e-02,  3.05806977e-03],\n",
       "       ...,\n",
       "       [ 1.61715160e-01,  3.61767913e-01,  6.64258287e-01, ...,\n",
       "         2.72494544e+00,  6.20914105e+00,  1.22017406e+00],\n",
       "       [ 5.69174761e+00,  6.54000873e+00,  3.55021517e+00, ...,\n",
       "         3.35779781e+00,  1.19610847e+01,  3.57563983e+00],\n",
       "       [ 2.09320811e-01,  5.73688364e-01,  1.52299416e+00, ...,\n",
       "         1.82435946e-01,  1.70746178e+00,  1.13705639e+00]])"
      ]
     },
     "execution_count": 26,
     "metadata": {},
     "output_type": "execute_result"
    }
   ],
   "source": [
    "# deltas = librosa.feature.mfcc(S=S, n_mfcc=20)\n",
    "input_arr"
   ]
  },
  {
   "cell_type": "code",
   "execution_count": 45,
   "metadata": {
    "id": "BpX7aYxjPSP2"
   },
   "outputs": [],
   "source": [
    "from sklearn.model_selection import train_test_split\n",
    "import random\n",
    "\n",
    "model_save_dir = os.path.join(directory[:-4], f\"models\").replace(\"\\\\\",\"/\")\n",
    "\n",
    "if not os.path.exists((model_save_dir + \"/svm_1_tts\")):\n",
    "    X_train, X_test, y_train, y_test = train_test_split(\n",
    "        input_arr, notation_arr, test_size=0.33, random_state=42)\n",
    "    bee_X_train = [X_train[idx] for idx, el in enumerate(y_train) if el == 1]\n",
    "    nobee_X_train = [X_train[idx] for idx, el in enumerate(y_train) if el == 0]\n",
    "    bee_y_train = [el for el in y_train if el == 1]\n",
    "    nobee_y_train = [el for el in y_train if el == 0]\n",
    "    num_dup = len(nobee_y_train) - len(bee_y_train)\n",
    "    bee_y_train = bee_y_train + ([1] * num_dup)\n",
    "    temp = random.choices(bee_X_train, k=num_dup)\n",
    "    bee_X_train = bee_X_train + temp\n",
    "\n",
    "    balanced_X_train = np.array(bee_X_train + nobee_X_train)\n",
    "    balanced_y_train = np.array(bee_y_train + nobee_y_train)\n",
    "    jbl.dump([balanced_X_train, X_test, balanced_y_train, y_test], (model_save_dir + \"/svm_1_tts\"))    \n",
    "else:\n",
    "    balanced_X_train, X_test, balanced_y_train, y_test = jbl.load((model_save_dir + \"/svm_1_tts\"))"
   ]
  },
  {
   "cell_type": "code",
   "execution_count": 46,
   "metadata": {},
   "outputs": [
    {
     "data": {
      "text/plain": [
       "numpy.ndarray"
      ]
     },
     "execution_count": 46,
     "metadata": {},
     "output_type": "execute_result"
    }
   ],
   "source": [
    "type(balanced_X_train)"
   ]
  },
  {
   "cell_type": "code",
   "execution_count": 47,
   "metadata": {},
   "outputs": [
    {
     "name": "stdout",
     "output_type": "stream",
     "text": [
      "Number of 0 labels: 262\n",
      "Number of 1 labels: 72\n",
      "Number of 0 labels after balance: 262\n",
      "Number of 1 labels after balance: 262\n"
     ]
    }
   ],
   "source": [
    "print(f\"Number of 0 labels: {np.sum(y_train == 0)}\")\n",
    "print(f\"Number of 1 labels: {np.sum(y_train == 1)}\")\n",
    "print(f\"Number of 0 labels after balance: {np.sum(balanced_y_train == 0)}\")\n",
    "print(f\"Number of 1 labels after balance: {np.sum(balanced_y_train == 1)}\")"
   ]
  },
  {
   "cell_type": "code",
   "execution_count": 49,
   "metadata": {},
   "outputs": [],
   "source": [
    "from sklearn import model_selection\n",
    "from sklearn import metrics\n",
    "\n",
    "if not os.path.exists((model_save_dir + \"/svm_1\")):\n",
    "    if not os.path.exists((model_save_dir + \"/svm_1_best_params\")):\n",
    "        num_samples = 2\n",
    "        C_range = [0.1, 1, 10, 100, 1000]\n",
    "        gamma_range = [1, 0.1, 0.01, 0.001, 0.0001]\n",
    "        # C_range = np.logspace(-5, 5, num_samples)\n",
    "        # gamma_range = np.logspace(-10, 2, num_samples)\n",
    "        param_grid = {\"gamma\":gamma_range, \"C\":C_range}\n",
    "        # num_features_svm = X_test.shape[0] * X_test.shape[1]\n",
    "        # clf = model_selection.GridSearchCV(svm.SVC(), param_grid, scoring=metrics.precision_recall_curve(y_train, X_train))\n",
    "        clf = model_selection.GridSearchCV(svm.SVC(kernel='rbf', probability=True, class_weight='balanced'), \n",
    "                                           param_grid, \n",
    "                                           scoring=\"average_precision\")\n",
    "        # TODO: check paper for gamma value SD: There's no gamma value in the paper\n",
    "        # gamma: try c value; any values to find best; use lgspace\n",
    "        # features: \\delta -> deriv; \\delta\\delta -> derive, then sub two derives; use librosa\n",
    "        # clf.fit([i.flatten() for i in sound_arr], notation_arr)\n",
    "        clf.fit(balanced_X_train, balanced_y_train)\n",
    "\n",
    "        # Save model\n",
    "        model_save_dir = os.path.join(directory[:-4], f\"models\").replace(\"\\\\\",\"/\")\n",
    "        jbl.dump(clf, (model_save_dir + \"/svm_1\"))\n",
    "        jbl.dump(clf.best_params_, (model_save_dir + \"/svm_1_best_params\"))\n",
    "        best_params = clf.best_params_\n",
    "    else:\n",
    "        best_params = jbl.load((model_save_dir + \"/svm_1_best_params\"))\n",
    "        clf = svm.SVC(kernel='rbf', probability=True, class_weight='balanced', \n",
    "                      C=best_params['C'], gamma=best_params['gamma'])\n",
    "        clf.fit(balanced_X_train, balanced_y_train)\n",
    "        jbl.dump(clf, (model_save_dir + \"/svm_1\"))\n",
    "else:\n",
    "    clf = jbl.load((model_save_dir + \"/svm_1\"))"
   ]
  },
  {
   "cell_type": "code",
   "execution_count": 50,
   "metadata": {
    "id": "aSP9E9aQJJB4"
   },
   "outputs": [
    {
     "name": "stdout",
     "output_type": "stream",
     "text": [
      "(165, 84020)\n",
      "Number of 0.0's: 136\n",
      "Number of 1.0's: 29\n"
     ]
    }
   ],
   "source": [
    "# preds = clf.predict([i.flatten() for i in sound_arr])\n",
    "# arr = np.array(sound_arr[])\n",
    "idxs_test = np.random.choice(len(input_arr), np.shape(y_test)[0])\n",
    "arr_test = np.array(input_arr)[idxs_test]\n",
    "preds_test = clf.predict(arr_test)"
   ]
  },
  {
   "cell_type": "code",
   "execution_count": 57,
   "metadata": {
    "scrolled": true
   },
   "outputs": [],
   "source": [
    "idxs_train = np.random.choice(len(input_arr), np.shape(balanced_y_train)[0])\n",
    "arr_train = np.array(input_arr)[idxs_train]\n",
    "preds_train = clf.predict(arr_train)"
   ]
  },
  {
   "cell_type": "code",
   "execution_count": 58,
   "metadata": {
    "id": "qyBuYX5IPR1E",
    "scrolled": true
   },
   "outputs": [],
   "source": [
    "# # print([notation_arr[idx] for i in idxs])\n",
    "# print(np.shape(y_test))\n",
    "# print(np.shape(y_train))\n",
    "# print([X_train, X_test, y_train, y_test])"
   ]
  },
  {
   "cell_type": "markdown",
   "metadata": {
    "id": "D7XiCNvDeVM2"
   },
   "source": [
    "```\n",
    "(100, 84020)\n",
    "Number of 0.0's: 72\n",
    "Number of 1.0's: 28\n",
    "```"
   ]
  },
  {
   "cell_type": "code",
   "execution_count": 59,
   "metadata": {},
   "outputs": [],
   "source": [
    "fpr_test, tpr_test, roc_thresh_test = metrics.roc_curve(y_test, preds_test)\n",
    "auc_test = metrics.auc(fpr_test, tpr_test)\n",
    "\n",
    "fpr_train, tpr_train, roc_thresh_train = metrics.roc_curve(balanced_y_train, preds_train)\n",
    "auc_train = metrics.auc(fpr_train, tpr_train)"
   ]
  },
  {
   "cell_type": "code",
   "execution_count": 60,
   "metadata": {},
   "outputs": [
    {
     "name": "stdout",
     "output_type": "stream",
     "text": [
      "(165, 84020)\n",
      "Number of 0.0's: 136\n",
      "Number of 1.0's: 29\n",
      "Test AUC: 0.6321428571428571\n",
      "\n",
      "(524, 84020)\n",
      "Number of 0.0's: 387\n",
      "Number of 1.0's: 137\n",
      "Train AUC: 0.5019083969465649\n"
     ]
    }
   ],
   "source": [
    "print(arr_test.shape)\n",
    "for i in np.unique(preds_test):\n",
    "    print(f'Number of {i}\\'s: {list(preds_test).count(i)}')\n",
    "print(f\"Test AUC: {auc_test}\")\n",
    "print()\n",
    "print(arr_train.shape)\n",
    "for i in np.unique(preds_train):\n",
    "    print(f'Number of {i}\\'s: {list(preds_train).count(i)}')\n",
    "print(f\"Train AUC: {auc_train}\")"
   ]
  },
  {
   "cell_type": "markdown",
   "metadata": {},
   "source": [
    "**Run 1:**  \n",
    "* Test set predictions and AUC:\n",
    "```\n",
    "(165, 84020)\n",
    "Number of 0.0's: 130\n",
    "Number of 1.0's: 35\n",
    "Test AUC: 0.528998778998779\n",
    "```\n",
    "* Train set predictions and AUC:\n",
    "```\n",
    "(334, 84020)\n",
    "Number of 0.0's: 244\n",
    "Number of 1.0's: 90\n",
    "Train AUC: 0.5451687226995632\n",
    "```\n",
    "\n",
    "**Run 2:**  \n",
    "* Test set predictions and AUC:\n",
    "```\n",
    "(165, 84020)\n",
    "Number of 0's: 119\n",
    "Number of 1's: 46\n",
    "Test AUC: 0.4771428571428571\n",
    "```\n",
    "* Train set predictions and AUC:\n",
    "```\n",
    "(334, 84020)\n",
    "Number of 0's: 259\n",
    "Number of 1's: 75\n",
    "Train AUC: 0.4808100084817642\n",
    "```\n",
    "\n",
    "**Run 3 *(after balancing training set)*:**  \n",
    "* Test set predictions and AUC:\n",
    "```\n",
    "(165, 84020)\n",
    "Number of 0.0's: 136\n",
    "Number of 1.0's: 29\n",
    "Test AUC: 0.6321428571428571\n",
    "```\n",
    "* Train set predictions and AUC:\n",
    "```\n",
    "(334, 84020)\n",
    "Number of 0.0's: 240\n",
    "Number of 1.0's: 94\n",
    "Train AUC: 0.4711089906700594\n",
    "```\n",
    "* BUG: Used wrong training set in ROC/AUC\n",
    "\n",
    "**Run 4 *(after fix; using same traing/test set)*:**  \n",
    "* Test set predictions and AUC:\n",
    "```\n",
    "(165, 84020)\n",
    "Number of 0.0's: 136\n",
    "Number of 1.0's: 29\n",
    "Test AUC: 0.6321428571428571\n",
    "```\n",
    "* Train set predictions and AUC:\n",
    "```\n",
    "(524, 84020)\n",
    "Number of 0.0's: 387\n",
    "Number of 1.0's: 137\n",
    "Train AUC: 0.5019083969465649\n",
    "```"
   ]
  },
  {
   "cell_type": "code",
   "execution_count": null,
   "metadata": {},
   "outputs": [],
   "source": [
    "# Testing: What if we put X_test in instead of selecting random X valules from input_arr\n",
    "# idxs_test = np.random.choice(len(input_arr), np.shape(y_test)[0])\n",
    "# arr_test = np.array(input_arr)[idxs_test]\n",
    "# print(arr_test.shape)\n",
    "# preds_test = clf.predict(arr_test)\n",
    "# for i in np.unique(preds_test):\n",
    "#     print(f'Number of {i}\\'s: {list(preds_test).count(i)}')"
   ]
  },
  {
   "cell_type": "markdown",
   "metadata": {
    "id": "K5oVtOk9Zrrs"
   },
   "source": [
    "### CNN\n",
    "Initial Parameters (**B\\***):\n",
    "* Features: 80 Mel-band spectra\n",
    "* Segment(Block) Size ($S$): 60 seconds\n",
    "* Threshold $\\Theta$: 0 seconds\n",
    "* Respective field: 1000 frames\n",
    "* \\# Training Epochs: 100\n",
    "* Batch Size: 20\n",
    "\n",
    "\n",
    "CNN Reference: https://towardsdatascience.com/building-a-convolutional-neural-network-cnn-in-keras-329fbbadc5f5\n",
    "\n",
    "Bulbul: https://github.com/DCASE-REPO/bulbul_bird_detection_dcase2018\n",
    "\n",
    "Rec Field: https://theaisummer.com/receptive-field/\n"
   ]
  },
  {
   "cell_type": "code",
   "execution_count": null,
   "metadata": {
    "executionInfo": {
     "elapsed": 5359,
     "status": "ok",
     "timestamp": 1654889215877,
     "user": {
      "displayName": "Scott Vo",
      "userId": "13143144038006176710"
     },
     "user_tz": 420
    },
    "id": "x_agrl9ceiwe"
   },
   "outputs": [],
   "source": [
    "import tensorflow as tf\n",
    "\n",
    "from tensorflow.keras import datasets, layers, models\n",
    "from sklearn.model_selection import train_test_split\n",
    "import matplotlib.pyplot as plt"
   ]
  },
  {
   "cell_type": "code",
   "execution_count": null,
   "metadata": {
    "executionInfo": {
     "elapsed": 8300,
     "status": "ok",
     "timestamp": 1654889224135,
     "user": {
      "displayName": "Scott Vo",
      "userId": "13143144038006176710"
     },
     "user_tz": 420
    },
    "id": "40AkIK7qKgKI"
   },
   "outputs": [],
   "source": [
    "# demeaned = np.newaxis(sound_arr[0].to_numpy())\n",
    "# demeaned.shape\n",
    "X = np.array([i - i.mean() for i in sound_arr])\n",
    "# y = [np.array(i) for i in notation_arr]\n",
    "Y = np.array(notation_arr)\n",
    "\n",
    "X_train, X_test, y_train, y_test = train_test_split(\n",
    "    X, Y, test_size=0.05, random_state=42)\n",
    "y_train = np.asarray(y_train).astype('float32').reshape((-1,1))\n",
    "y_test = np.asarray(y_test).astype('float32').reshape((-1,1))"
   ]
  },
  {
   "cell_type": "code",
   "execution_count": null,
   "metadata": {
    "colab": {
     "base_uri": "https://localhost:8080/"
    },
    "executionInfo": {
     "elapsed": 31,
     "status": "ok",
     "timestamp": 1654889224136,
     "user": {
      "displayName": "Scott Vo",
      "userId": "13143144038006176710"
     },
     "user_tz": 420
    },
    "id": "zyfcHh_IrD_7",
    "outputId": "d6e66b6e-d105-458b-b0c3-f43128a3ebe7"
   },
   "outputs": [],
   "source": [
    "print(X_train.shape, y_train.shape)"
   ]
  },
  {
   "cell_type": "code",
   "execution_count": null,
   "metadata": {
    "colab": {
     "base_uri": "https://localhost:8080/"
    },
    "executionInfo": {
     "elapsed": 300,
     "status": "ok",
     "timestamp": 1654889224413,
     "user": {
      "displayName": "Scott Vo",
      "userId": "13143144038006176710"
     },
     "user_tz": 420
    },
    "id": "r4gsy8deRCBC",
    "outputId": "0f1d4b63-eb4d-4680-fdba-a0cac1fb3104"
   },
   "outputs": [],
   "source": [
    "# try w/ max pooling, then others (avg)\n",
    "# global pooling\n",
    "# lrelu: try default first\n",
    "# first layer -> make sure input shape correct (128, 4201)\n",
    "# paper: look at bulbul -> what is dimension?\n",
    "model = models.Sequential()\n",
    "model.add(layers.Conv2D(16, (3, 3), input_shape=(128, 4201, 1)))\n",
    "model.add(layers.LeakyReLU())\n",
    "model.add(layers.MaxPooling2D((2, 2)))\n",
    "\n",
    "model.add(layers.Conv2D(16, (3, 3)))\n",
    "model.add(layers.LeakyReLU())\n",
    "model.add(layers.MaxPooling2D((2, 2)))\n",
    "\n",
    "model.add(layers.Conv2D(16, (3, 1)))\n",
    "model.add(layers.LeakyReLU())\n",
    "model.add(layers.MaxPooling2D((2, 2)))\n",
    "\n",
    "model.add(layers.Conv2D(16, (3, 1)))\n",
    "model.add(layers.LeakyReLU())\n",
    "model.add(layers.MaxPooling2D((2, 2)))\n",
    "\n",
    "model.add(layers.Flatten())\n",
    "\n",
    "model.add(layers.Dense(256))\n",
    "model.add(layers.LeakyReLU())\n",
    "model.add(layers.Dropout(0.5))\n",
    "\n",
    "model.add(layers.Dense(32))\n",
    "model.add(layers.LeakyReLU())\n",
    "model.add(layers.Dropout(0.5))\n",
    "\n",
    "model.add(layers.Dense(1, activation='sigmoid'))\n",
    "model.add(layers.Dropout(0.5))\n",
    "\n",
    "model.summary()"
   ]
  },
  {
   "cell_type": "code",
   "execution_count": null,
   "metadata": {
    "colab": {
     "base_uri": "https://localhost:8080/"
    },
    "executionInfo": {
     "elapsed": 753454,
     "status": "ok",
     "timestamp": 1654889977861,
     "user": {
      "displayName": "Scott Vo",
      "userId": "13143144038006176710"
     },
     "user_tz": 420
    },
    "id": "TXqeYLbaWHiX",
    "outputId": "8b1a9a1c-38d8-4a1c-a23c-ccb8c5444c80"
   },
   "outputs": [],
   "source": [
    "# try dif optimizers\n",
    "model.compile(optimizer='adam',\n",
    "              loss=tf.keras.losses.BinaryCrossentropy(from_logits=True),\n",
    "              metrics=['accuracy'])\n",
    "\n",
    "history = model.fit(X_train, y_train, batch_size=20, epochs=5, \n",
    "                    validation_data=(X_test, y_test))"
   ]
  },
  {
   "cell_type": "code",
   "execution_count": null,
   "metadata": {
    "colab": {
     "base_uri": "https://localhost:8080/"
    },
    "executionInfo": {
     "elapsed": 5964,
     "status": "ok",
     "timestamp": 1654890109790,
     "user": {
      "displayName": "Scott Vo",
      "userId": "13143144038006176710"
     },
     "user_tz": 420
    },
    "id": "or8qUDzXItXO",
    "outputId": "fbb98081-9580-4b69-d283-56bea7711a0b"
   },
   "outputs": [],
   "source": [
    "model.save(\"cnn_attempt1.model\")"
   ]
  },
  {
   "cell_type": "code",
   "execution_count": null,
   "metadata": {
    "id": "dNjc25pzItTw"
   },
   "outputs": [],
   "source": []
  },
  {
   "cell_type": "markdown",
   "metadata": {
    "id": "dCiVin7Sdo5k"
   },
   "source": [
    "\n",
    "### SVM Comparison with Paper 1"
   ]
  },
  {
   "cell_type": "code",
   "execution_count": null,
   "metadata": {
    "id": "h16xwXoWTG0X"
   },
   "outputs": [],
   "source": []
  },
  {
   "cell_type": "markdown",
   "metadata": {
    "id": "caD9sfAdduSl"
   },
   "source": [
    "### CNN Comparison with Paper 1"
   ]
  },
  {
   "cell_type": "code",
   "execution_count": null,
   "metadata": {},
   "outputs": [],
   "source": []
  }
 ],
 "metadata": {
  "colab": {
   "collapsed_sections": [],
   "name": "BeeNoBee.ipynb",
   "provenance": []
  },
  "kernelspec": {
   "display_name": "Python 3 (ipykernel)",
   "language": "python",
   "name": "python3"
  },
  "language_info": {
   "codemirror_mode": {
    "name": "ipython",
    "version": 3
   },
   "file_extension": ".py",
   "mimetype": "text/x-python",
   "name": "python",
   "nbconvert_exporter": "python",
   "pygments_lexer": "ipython3",
   "version": "3.9.12"
  }
 },
 "nbformat": 4,
 "nbformat_minor": 1
}
