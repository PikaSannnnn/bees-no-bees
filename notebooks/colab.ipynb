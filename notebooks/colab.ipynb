{
 "cells": [
  {
   "cell_type": "code",
   "execution_count": 1,
   "id": "ee7de420",
   "metadata": {},
   "outputs": [],
   "source": [
    "# imports\n",
    "import seaborn as sns\n",
    "import pandas as pd\n",
    "import numpy as np\n",
    "import pickle\n",
    "import librosa\n",
    "import librosa.display\n",
    "from sklearn import svm\n",
    "from sklearn.model_selection import GridSearchCV\n",
    "from glob import glob\n",
    "import warnings\n",
    "from IPython.display import display, clear_output\n",
    "import matplotlib.pyplot as plt\n",
    "import os\n",
    "\n",
    "warnings.filterwarnings('ignore')\n",
    "\n",
    "n_fft = 1024\n",
    "hop_length = 315"
   ]
  },
  {
   "cell_type": "code",
   "execution_count": null,
   "id": "9887267f",
   "metadata": {},
   "outputs": [],
   "source": [
    "def get_files(dir: str):\n",
    "    labs = glob(dir + '/*.lab')\n",
    "    mp3s = glob(dir + '/*.mp3')\n",
    "    wavs = glob(dir + '/*.wav')\n",
    "    return labs, mp3s, wavs"
   ]
  }
 ],
 "metadata": {
  "kernelspec": {
   "display_name": "Python 3 (ipykernel)",
   "language": "python",
   "name": "python3"
  },
  "language_info": {
   "codemirror_mode": {
    "name": "ipython",
    "version": 3
   },
   "file_extension": ".py",
   "mimetype": "text/x-python",
   "name": "python",
   "nbconvert_exporter": "python",
   "pygments_lexer": "ipython3",
   "version": "3.10.4"
  }
 },
 "nbformat": 4,
 "nbformat_minor": 5
}
